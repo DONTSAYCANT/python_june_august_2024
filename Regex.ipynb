{
 "cells": [
  {
   "cell_type": "code",
   "execution_count": null,
   "metadata": {},
   "outputs": [],
   "source": [
    "#https://www.programiz.com/python-programming/regex\n",
    "#https://regex101.com/"
   ]
  },
  {
   "cell_type": "code",
   "execution_count": null,
   "metadata": {},
   "outputs": [],
   "source": [
    "#Regular Expression\n",
    "\n",
    "\n",
    "#Extracting some common patterns from your resume\n",
    "#kannanparthipan@gmail.com\n",
    "#ddddddd@hotmail.com\n",
    "#eeeeegnhgjkg9000@outlook.com\n",
    "\n",
    "<alphanumeric>@(outlook|yahoo|hotmail|gmail).com\n",
    "\n",
    "\\d{10} ==> contact no\n",
    "\n",
    "93 %  3.4 CGPA\n",
    "\n",
    "Writing pattern ===> regular expression\n",
    "\n",
    "#password restriction ===> \n",
    "\n",
    "regular expression\n",
    "\n",
    "BE  BCA  MCA PHD \n",
    "\n",
    "#pattern matching\n",
    "\n",
    "\n",
    "#Log: \n",
    "\n"
   ]
  },
  {
   "cell_type": "code",
   "execution_count": null,
   "metadata": {},
   "outputs": [],
   "source": [
    "Part1: https://regex101.com/\n",
    "    \n",
    "  \n",
    "How to write regular expression \n",
    "\n",
    "small language \n",
    "\n",
    "\n",
    "\\d ==> digit \n",
    "\\D ==> Non digit\n",
    "\\s ==> space\n",
    "\\S ==> Non space\n",
    "\\w ==> word character a-z A-Z 0-9 _   \n",
    "\\W ==> Non word character\n",
    "\n",
    "\n",
    "\\A ==> Whole string starts with\n",
    "\\Z ==> Whole string ends with\n",
    "\\b ==> Every words starting in a string\n",
    "\\B ==> middle or end of each word in a string\n",
    "\n",
    ". ==> any one char except next line\n",
    "[] ===> [a-z]\n",
    "[^] ==> except the pattern\n",
    "^ $\n",
    "|\n",
    "\n",
    "Quantifiers:\n",
    "    \n",
    "* 0 or more\n",
    "+ 1 or more\n",
    "? 0 or 1\n",
    "{} specified number or range\n",
    "\n",
    "\n",
    "\n",
    "\n",
    "\n",
    "Part2:\n",
    "\n",
    "    \n",
    "How to extract the value from code (Resume, \"maobile number, email id \") ===> output\n",
    "    \n",
    "    \n",
    "    "
   ]
  },
  {
   "cell_type": "code",
   "execution_count": 1,
   "metadata": {},
   "outputs": [
    {
     "name": "stdout",
     "output_type": "stream",
     "text": [
      "['20', '30', '500']\n"
     ]
    }
   ],
   "source": [
    "#Findall\n",
    "\n",
    "import re\n",
    "\n",
    "string = \"i have totally 20 dogs and 30 cats along with 500 fishes\"\n",
    "\n",
    "pattern = \"\\d+\"\n",
    "\n",
    "val = re.findall(pattern, string)\n",
    "\n",
    "print(val)"
   ]
  },
  {
   "cell_type": "code",
   "execution_count": 2,
   "metadata": {},
   "outputs": [
    {
     "name": "stdout",
     "output_type": "stream",
     "text": [
      "['i have totally ', ' dogs and ', ' cats along with ', ' fishes']\n"
     ]
    }
   ],
   "source": [
    "#split\n",
    "\n",
    "import re\n",
    "\n",
    "string = \"i have totally 20 dogs and 30 cats along with 500 fishes\"\n",
    "\n",
    "pattern = \"\\d+\"\n",
    "\n",
    "val = re.split(pattern, string)\n",
    "\n",
    "print(val)"
   ]
  },
  {
   "cell_type": "code",
   "execution_count": 3,
   "metadata": {},
   "outputs": [
    {
     "name": "stdout",
     "output_type": "stream",
     "text": [
      "i have totally %% dogs and %% cats along with %% fishes\n"
     ]
    }
   ],
   "source": [
    "#sub\n",
    "import re\n",
    "\n",
    "string = \"i have totally 20 dogs and 30 cats along with 500 fishes\"\n",
    "\n",
    "pattern = \"\\d+\"\n",
    "\n",
    "sub = \"%%\"\n",
    "\n",
    "val = re.sub(pattern, sub, string)\n",
    "\n",
    "print(val)"
   ]
  },
  {
   "cell_type": "code",
   "execution_count": 4,
   "metadata": {},
   "outputs": [
    {
     "name": "stdout",
     "output_type": "stream",
     "text": [
      "('i have totally %% dogs and %% cats along with %% fishes', 3)\n"
     ]
    }
   ],
   "source": [
    "#subn\n",
    "\n",
    "import re\n",
    "\n",
    "string = \"i have totally 20 dogs and 30 cats along with 500 fishes\"\n",
    "\n",
    "pattern = \"\\d+\"\n",
    "\n",
    "sub = \"%%\"\n",
    "\n",
    "val = re.subn(pattern, sub, string)\n",
    "\n",
    "print(val)"
   ]
  },
  {
   "cell_type": "code",
   "execution_count": 1,
   "metadata": {},
   "outputs": [
    {
     "name": "stdout",
     "output_type": "stream",
     "text": [
      "(\\d{2})-(\\d{2})-(\\d{4})\n",
      "<re.Match object; span=(14, 24), match='05-03-2022'>\n",
      "05-03-2022\n",
      "05\n",
      "03\n",
      "2022\n",
      "(14, 24)\n",
      "14\n",
      "24\n"
     ]
    }
   ],
   "source": [
    "#search\n",
    "\n",
    "import re\n",
    "\n",
    "string = \"today date is 05-03-2022 and tomorrow date is 06-03-2022 and my total stock count is 2004 today and 3434 yesterday\"\n",
    "\n",
    "pattern = \"(\\d{2})-(\\d{2})-(\\d{4})\"\n",
    "\n",
    "val = re.search(pattern, string)\n",
    "\n",
    "print(val)\n",
    "\n",
    "print(val.group())\n",
    "print(val.group(1))\n",
    "print(val.group(2))\n",
    "print(val.group(3))\n",
    "\n",
    "\n",
    "print(val.span())\n",
    "\n",
    "print(val.start())\n",
    "print(val.end())"
   ]
  },
  {
   "cell_type": "code",
   "execution_count": 9,
   "metadata": {},
   "outputs": [
    {
     "name": "stdout",
     "output_type": "stream",
     "text": [
      "<re.Match object; span=(29, 56), match='tomorrow date is 06-03-2022'>\n",
      "tomorrow date is 06-03-2022\n",
      "06-03-2022\n"
     ]
    }
   ],
   "source": [
    "import re\n",
    "\n",
    "string = \"today date is 05-03-2022 and tomorrow date is 06-03-2022\"\n",
    "\n",
    "pattern = \"tomorrow\\sdate\\sis\\s(\\d{2}-\\d{2}-\\d{4})\"\n",
    "\n",
    "val = re.search(pattern, string)\n",
    "\n",
    "print(val)\n",
    "\n",
    "print(val.group())\n",
    "print(val.group(1))"
   ]
  },
  {
   "cell_type": "code",
   "execution_count": null,
   "metadata": {},
   "outputs": [],
   "source": [
    "hello world today today date is today"
   ]
  },
  {
   "cell_type": "code",
   "execution_count": 14,
   "metadata": {},
   "outputs": [
    {
     "name": "stdout",
     "output_type": "stream",
     "text": [
      "please enter the number: jjj\n",
      "Error occurred, please give input again\n",
      "please enter the number: 10\n",
      "The input is  10\n"
     ]
    }
   ],
   "source": [
    "\n",
    "def collect_input():\n",
    "    try:\n",
    "        num = int(input(\"please enter the number: \"))\n",
    "        print(\"The input is \", num)\n",
    "    except:\n",
    "        print(\"Error occurred, please give input again\")\n",
    "        collect_input()\n",
    "collect_input()\n"
   ]
  },
  {
   "cell_type": "code",
   "execution_count": 15,
   "metadata": {},
   "outputs": [
    {
     "name": "stdout",
     "output_type": "stream",
     "text": [
      "please enter the number: jjj\n"
     ]
    },
    {
     "name": "stderr",
     "output_type": "stream",
     "text": [
      "ERROR:root:Internal Python error in the inspect module.\n",
      "Below is the traceback from this internal error.\n",
      "\n"
     ]
    },
    {
     "name": "stdout",
     "output_type": "stream",
     "text": [
      "Error occurred\n",
      "Traceback (most recent call last):\n",
      "  File \"<ipython-input-15-d56bb8ed56fd>\", line 4, in <module>\n",
      "    num = int(input(\"please enter the number: \"))\n",
      "ValueError: invalid literal for int() with base 10: 'jjj'\n",
      "\n",
      "During handling of the above exception, another exception occurred:\n",
      "\n",
      "Traceback (most recent call last):\n",
      "  File \"C:\\Users\\kanna\\Anaconda3\\lib\\site-packages\\IPython\\core\\interactiveshell.py\", line 3331, in run_code\n",
      "    exec(code_obj, self.user_global_ns, self.user_ns)\n",
      "  File \"<ipython-input-15-d56bb8ed56fd>\", line 8, in <module>\n",
      "    sys.exit('invalid input, EXITING')\n",
      "SystemExit: invalid input, EXITING\n",
      "\n",
      "During handling of the above exception, another exception occurred:\n",
      "\n",
      "Traceback (most recent call last):\n",
      "  File \"C:\\Users\\kanna\\Anaconda3\\lib\\site-packages\\IPython\\core\\ultratb.py\", line 1151, in get_records\n",
      "    return _fixed_getinnerframes(etb, number_of_lines_of_context, tb_offset)\n",
      "  File \"C:\\Users\\kanna\\Anaconda3\\lib\\site-packages\\IPython\\core\\ultratb.py\", line 319, in wrapped\n",
      "    return f(*args, **kwargs)\n",
      "  File \"C:\\Users\\kanna\\Anaconda3\\lib\\site-packages\\IPython\\core\\ultratb.py\", line 353, in _fixed_getinnerframes\n",
      "    records = fix_frame_records_filenames(inspect.getinnerframes(etb, context))\n",
      "  File \"C:\\Users\\kanna\\Anaconda3\\lib\\inspect.py\", line 1502, in getinnerframes\n",
      "    frameinfo = (tb.tb_frame,) + getframeinfo(tb, context)\n",
      "AttributeError: 'tuple' object has no attribute 'tb_frame'\n"
     ]
    },
    {
     "ename": "SystemExit",
     "evalue": "invalid input, EXITING",
     "output_type": "error",
     "traceback": [
      "An exception has occurred, use %tb to see the full traceback.\n",
      "\u001b[1;31m---------------------------------------------------------------------------\u001b[0m",
      "\nDuring handling of the above exception, another exception occurred:\n",
      "\u001b[1;31mSystemExit\u001b[0m\u001b[1;31m:\u001b[0m invalid input, EXITING\n"
     ]
    },
    {
     "name": "stderr",
     "output_type": "stream",
     "text": [
      "C:\\Users\\kanna\\Anaconda3\\lib\\site-packages\\IPython\\core\\interactiveshell.py:3339: UserWarning: To exit: use 'exit', 'quit', or Ctrl-D.\n",
      "  warn(\"To exit: use 'exit', 'quit', or Ctrl-D.\", stacklevel=1)\n"
     ]
    }
   ],
   "source": [
    "import sys\n",
    "\n",
    "try:\n",
    "    num = int(input(\"please enter the number: \"))\n",
    "    print(\"The input is \", num)\n",
    "except:\n",
    "    print(\"Error occurred\")\n",
    "    sys.exit('invalid input, EXITING')\n",
    "    "
   ]
  },
  {
   "cell_type": "code",
   "execution_count": null,
   "metadata": {},
   "outputs": [],
   "source": []
  }
 ],
 "metadata": {
  "kernelspec": {
   "display_name": "Python 3 (ipykernel)",
   "language": "python",
   "name": "python3"
  },
  "language_info": {
   "codemirror_mode": {
    "name": "ipython",
    "version": 3
   },
   "file_extension": ".py",
   "mimetype": "text/x-python",
   "name": "python",
   "nbconvert_exporter": "python",
   "pygments_lexer": "ipython3",
   "version": "3.9.13"
  }
 },
 "nbformat": 4,
 "nbformat_minor": 4
}
