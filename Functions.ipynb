{
 "cells": [
  {
   "cell_type": "code",
   "execution_count": 4,
   "metadata": {},
   "outputs": [
    {
     "ename": "IndentationError",
     "evalue": "unexpected indent (1343011581.py, line 11)",
     "output_type": "error",
     "traceback": [
      "\u001b[1;36m  File \u001b[1;32m\"C:\\Users\\kanna\\AppData\\Local\\Temp\\ipykernel_17824\\1343011581.py\"\u001b[1;36m, line \u001b[1;32m11\u001b[0m\n\u001b[1;33m    Just you need to call the function\u001b[0m\n\u001b[1;37m    ^\u001b[0m\n\u001b[1;31mIndentationError\u001b[0m\u001b[1;31m:\u001b[0m unexpected indent\n"
     ]
    }
   ],
   "source": [
    "#Functions\n",
    "\n",
    "\n",
    "#Reducing number of lines in the code/program\n",
    "#\n",
    "#\n",
    "#\n",
    "\n",
    "\n",
    "#inbuilt function ===> function def is already available inside your installed package\n",
    "                        Just you need to call the function\n",
    "\n",
    "#user def function  ===> write function def (processs) and function call\n",
    "\n",
    "#function call  ===> Calling funtion defintiion for n times\n",
    "#function definition  ===> One time block which contains redudant code\n",
    "#function aruement ===> Input to the funtion defintiion\n",
    "#return ===> Output from function definition ===> defult none\n",
    "\n"
   ]
  },
  {
   "cell_type": "code",
   "execution_count": null,
   "metadata": {},
   "outputs": [],
   "source": [
    "[\"rock\", \"paper\", \"scissor\"]"
   ]
  },
  {
   "cell_type": "code",
   "execution_count": 1,
   "metadata": {},
   "outputs": [
    {
     "name": "stdout",
     "output_type": "stream",
     "text": [
      "18\n",
      "16\n",
      "7\n",
      "26\n"
     ]
    }
   ],
   "source": [
    "a = 10\n",
    "b = 8\n",
    "c = a + b\n",
    "print(c)\n",
    "\n",
    "a = 12\n",
    "b = 4\n",
    "c = a + b\n",
    "print(c)\n",
    "\n",
    "a = 16\n",
    "b = -9\n",
    "c = a + b\n",
    "print(c)\n",
    "\n",
    "a = 20\n",
    "b = 6\n",
    "c = a + b\n",
    "print(c)"
   ]
  },
  {
   "cell_type": "code",
   "execution_count": null,
   "metadata": {},
   "outputs": [],
   "source": [
    "def <function_name>(args):\n",
    "    <code1>\n",
    "    <code2>\n",
    "    return (default None)"
   ]
  },
  {
   "cell_type": "code",
   "execution_count": 2,
   "metadata": {},
   "outputs": [
    {
     "name": "stdout",
     "output_type": "stream",
     "text": [
      "18\n",
      "38\n",
      "26\n",
      "15\n",
      "15\n",
      "2\n"
     ]
    }
   ],
   "source": [
    "def add_marks(x,y):\n",
    "    return x + y\n",
    "\n",
    "def sub_marks(x,y):\n",
    "    return x - y\n",
    "\n",
    "print(add_marks(10,8))\n",
    "print(add_marks(20,18))\n",
    "print(add_marks(12,14))\n",
    "print(add_marks(-5,20))\n",
    "print(sub_marks(20,5))\n",
    "print(sub_marks(4,2))"
   ]
  },
  {
   "cell_type": "code",
   "execution_count": 3,
   "metadata": {},
   "outputs": [
    {
     "name": "stdout",
     "output_type": "stream",
     "text": [
      "hello\n",
      "18\n",
      "hello\n",
      "38\n"
     ]
    }
   ],
   "source": [
    "def add_marks(x,y):\n",
    "    print(\"hello\")\n",
    "    print(x + y)\n",
    "    \n",
    "add_marks(10,8)\n",
    "add_marks(20,18)"
   ]
  },
  {
   "cell_type": "code",
   "execution_count": 2,
   "metadata": {},
   "outputs": [
    {
     "name": "stdout",
     "output_type": "stream",
     "text": [
      "18\n",
      "38\n",
      "26\n"
     ]
    }
   ],
   "source": [
    "def add_marks(x,y):\n",
    "    return x + y\n",
    "    print(\"hello\")\n",
    "    \n",
    "print(add_marks(10,8))\n",
    "print(add_marks(20,18))\n",
    "print(add_marks(12,14))"
   ]
  },
  {
   "cell_type": "code",
   "execution_count": 7,
   "metadata": {},
   "outputs": [
    {
     "name": "stdout",
     "output_type": "stream",
     "text": [
      "even\n",
      "odd\n"
     ]
    }
   ],
   "source": [
    "def even_odd_check(x):\n",
    "    if x % 2 == 0:\n",
    "        return \"even\"\n",
    "    else:\n",
    "        return \"odd\"\n",
    "    \n",
    "print(even_odd_check(8))\n",
    "print(even_odd_check(7))"
   ]
  },
  {
   "cell_type": "code",
   "execution_count": null,
   "metadata": {},
   "outputs": [],
   "source": [
    "#inbuilt function\n",
    "\n",
    "print\n",
    "type\n",
    "int\n",
    "float\n",
    "bool\n",
    "str\n",
    "input\n",
    "list\n",
    "tuple\n",
    "set\n",
    "dict\n",
    "zip\n",
    "len\n",
    "sum\n",
    "min\n",
    "max\n",
    "del\n",
    "\n",
    "#any \n",
    "\n",
    "#all\n",
    "\n",
    "#ord\n",
    "#chr\n",
    "\n",
    "#https://www.w3schools.com/python/python_ref_functions.asp\n",
    "\n"
   ]
  },
  {
   "cell_type": "code",
   "execution_count": 8,
   "metadata": {},
   "outputs": [
    {
     "name": "stdout",
     "output_type": "stream",
     "text": [
      "[10, 6, 7, 4, 3, 5]\n"
     ]
    }
   ],
   "source": [
    "a = [5,6,7,4,3,10]\n",
    "\n",
    "a.append(a[0])\n",
    "a.pop(0)\n",
    "a.insert(0,a[-2])\n",
    "a.pop(-2)\n",
    "print(a)"
   ]
  },
  {
   "cell_type": "code",
   "execution_count": 10,
   "metadata": {},
   "outputs": [
    {
     "name": "stdout",
     "output_type": "stream",
     "text": [
      "[0, 1, 1, 2, 3, 5, 8]\n"
     ]
    }
   ],
   "source": [
    "li = [0, 1]\n",
    "\n",
    "for i in range(5):\n",
    "    li.append(li[-1] + li[-2])\n",
    "    \n",
    "print(li)"
   ]
  },
  {
   "cell_type": "code",
   "execution_count": 11,
   "metadata": {},
   "outputs": [
    {
     "name": "stdout",
     "output_type": "stream",
     "text": [
      "1\n",
      "2\n",
      "3\n",
      "5\n",
      "8\n"
     ]
    }
   ],
   "source": [
    "a = 0\n",
    "b = 1\n",
    "\n",
    "for i in range(5):\n",
    "    c = a + b\n",
    "    a = b\n",
    "    b = c\n",
    "    print(c)\n"
   ]
  },
  {
   "cell_type": "code",
   "execution_count": null,
   "metadata": {},
   "outputs": [],
   "source": [
    "0 1\n",
    "0 1 1"
   ]
  },
  {
   "cell_type": "code",
   "execution_count": null,
   "metadata": {},
   "outputs": [],
   "source": [
    "a = 15\n",
    "\n",
    "15 ==> 2,3,4,5,6,7,8,9,10,11,12,13,14,\n",
    "\n",
    "\n",
    "15 // 2 \n",
    "15 // 3\n",
    "15 //4\n",
    "15 // 5\n",
    "\n",
    "\n",
    "\n",
    "2 ==> prime  1,2 \n",
    "3 ===> prime 1,3\n",
    "4 ==> non prime 1,2,4\n",
    "5 ===> prime 1,5\n",
    "6 ===> not prime 1,2,3,6\n",
    "7 ==> prime 1,7\n",
    "8 ===> not prime 1,2,4,8\n",
    "9 ==> not prime 1,3,9"
   ]
  },
  {
   "cell_type": "code",
   "execution_count": 14,
   "metadata": {},
   "outputs": [
    {
     "name": "stdout",
     "output_type": "stream",
     "text": [
      "Enter the first number50\n",
      "Enter the last number: 100\n",
      "non prime:  50\n",
      "non prime:  51\n",
      "non prime:  52\n",
      "prime:  53\n",
      "non prime:  54\n",
      "non prime:  55\n",
      "non prime:  56\n",
      "non prime:  57\n",
      "non prime:  58\n",
      "prime:  59\n",
      "non prime:  60\n",
      "prime:  61\n",
      "non prime:  62\n",
      "non prime:  63\n",
      "non prime:  64\n",
      "non prime:  65\n",
      "non prime:  66\n",
      "prime:  67\n",
      "non prime:  68\n",
      "non prime:  69\n",
      "non prime:  70\n",
      "prime:  71\n",
      "non prime:  72\n",
      "prime:  73\n",
      "non prime:  74\n",
      "non prime:  75\n",
      "non prime:  76\n",
      "non prime:  77\n",
      "non prime:  78\n",
      "prime:  79\n",
      "non prime:  80\n",
      "non prime:  81\n",
      "non prime:  82\n",
      "prime:  83\n",
      "non prime:  84\n",
      "non prime:  85\n",
      "non prime:  86\n",
      "non prime:  87\n",
      "non prime:  88\n",
      "prime:  89\n",
      "non prime:  90\n",
      "non prime:  91\n",
      "non prime:  92\n",
      "non prime:  93\n",
      "non prime:  94\n",
      "non prime:  95\n",
      "non prime:  96\n",
      "prime:  97\n",
      "non prime:  98\n",
      "non prime:  99\n"
     ]
    }
   ],
   "source": [
    "a = int(input(\"Enter the first number\"))\n",
    "b = int(input(\"Enter the last number: \"))\n",
    "\n",
    "\n",
    "for i in range(a,b):\n",
    "    for j in range(2,i):\n",
    "        if i % j == 0:\n",
    "            print(\"non prime: \", i)\n",
    "            break\n",
    "    else:\n",
    "        print(\"prime: \", i)\n",
    "    "
   ]
  },
  {
   "cell_type": "code",
   "execution_count": 17,
   "metadata": {},
   "outputs": [
    {
     "name": "stdout",
     "output_type": "stream",
     "text": [
      "prime:  19\n"
     ]
    }
   ],
   "source": [
    "val = 19\n",
    "\n",
    "for j in range(2,val):\n",
    "    if val % j == 0:\n",
    "        print(\"non prime: \", val)\n",
    "        break\n",
    "else:\n",
    "    print(\"prime: \", val)"
   ]
  },
  {
   "cell_type": "code",
   "execution_count": null,
   "metadata": {},
   "outputs": [],
   "source": [
    "15 ==> prime >?\n",
    "\n",
    "\n",
    "0-15 ==> one by one\n",
    "\n",
    "\n",
    "2 ===> 2 %2 ==>\n",
    "3 ==> 3 (2,3) ==>\n",
    "4 ===> "
   ]
  },
  {
   "cell_type": "code",
   "execution_count": 18,
   "metadata": {},
   "outputs": [
    {
     "name": "stdout",
     "output_type": "stream",
     "text": [
      "Enter the first number45\n",
      "Enter the last number: 90\n",
      "non prime:  45\n",
      "non prime:  46\n",
      "prime:  47\n",
      "non prime:  48\n",
      "non prime:  49\n",
      "non prime:  50\n",
      "non prime:  51\n",
      "non prime:  52\n",
      "prime:  53\n",
      "non prime:  54\n",
      "non prime:  55\n",
      "non prime:  56\n",
      "non prime:  57\n",
      "non prime:  58\n",
      "prime:  59\n",
      "non prime:  60\n",
      "prime:  61\n",
      "non prime:  62\n",
      "non prime:  63\n",
      "non prime:  64\n",
      "non prime:  65\n",
      "non prime:  66\n",
      "prime:  67\n",
      "non prime:  68\n",
      "non prime:  69\n",
      "non prime:  70\n",
      "prime:  71\n",
      "non prime:  72\n",
      "prime:  73\n",
      "non prime:  74\n",
      "non prime:  75\n",
      "non prime:  76\n",
      "non prime:  77\n",
      "non prime:  78\n",
      "prime:  79\n",
      "non prime:  80\n",
      "non prime:  81\n",
      "non prime:  82\n",
      "prime:  83\n",
      "non prime:  84\n",
      "non prime:  85\n",
      "non prime:  86\n",
      "non prime:  87\n",
      "non prime:  88\n",
      "prime:  89\n"
     ]
    }
   ],
   "source": [
    "a = int(input(\"Enter the first number\"))\n",
    "b = int(input(\"Enter the last number: \"))\n",
    "\n",
    "\n",
    "for i in range(a,b):\n",
    "    for j in range(2,i//2):\n",
    "        if i % j == 0:\n",
    "            print(\"non prime: \", i)\n",
    "            break\n",
    "    else:\n",
    "        print(\"prime: \", i)"
   ]
  },
  {
   "cell_type": "code",
   "execution_count": null,
   "metadata": {},
   "outputs": [],
   "source": [
    "24 ===> 1,2,3,4,6,8,12,24\n",
    "\n",
    "24 ===> 2,3,4,5,6........23\n",
    "\n",
    "24 ===> 2,3,4,5,....12\n",
    "\n",
    "for ==> n"
   ]
  },
  {
   "cell_type": "code",
   "execution_count": 25,
   "metadata": {},
   "outputs": [
    {
     "name": "stdout",
     "output_type": "stream",
     "text": [
      "[8, 7, 6, 5, 4, 3, 2]\n",
      "3\n"
     ]
    }
   ],
   "source": [
    "Li = [5,6,7,4,3,2,8]\n",
    "\n",
    "for i in range(len(Li)):\n",
    "    for j in range(i+1, len(Li)):\n",
    "        if Li[i] < Li[j]:\n",
    "            Li[i], Li[j] = Li[j], Li[i]\n",
    "print(Li)\n",
    "print(Li[-2])"
   ]
  },
  {
   "cell_type": "code",
   "execution_count": 19,
   "metadata": {},
   "outputs": [
    {
     "name": "stdout",
     "output_type": "stream",
     "text": [
      "5\n",
      "10\n"
     ]
    }
   ],
   "source": [
    "a = 10\n",
    "b = 5\n",
    "\n",
    "a,b = b,a\n",
    "print(a)\n",
    "print(b)"
   ]
  },
  {
   "cell_type": "code",
   "execution_count": null,
   "metadata": {},
   "outputs": [],
   "source": []
  }
 ],
 "metadata": {
  "kernelspec": {
   "display_name": "Python 3 (ipykernel)",
   "language": "python",
   "name": "python3"
  },
  "language_info": {
   "codemirror_mode": {
    "name": "ipython",
    "version": 3
   },
   "file_extension": ".py",
   "mimetype": "text/x-python",
   "name": "python",
   "nbconvert_exporter": "python",
   "pygments_lexer": "ipython3",
   "version": "3.9.13"
  }
 },
 "nbformat": 4,
 "nbformat_minor": 4
}
