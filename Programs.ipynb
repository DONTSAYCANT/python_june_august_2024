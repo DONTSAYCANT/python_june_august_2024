{
 "cells": [
  {
   "cell_type": "code",
   "execution_count": 5,
   "id": "c8e654f3",
   "metadata": {},
   "outputs": [
    {
     "name": "stdout",
     "output_type": "stream",
     "text": [
      "370\n"
     ]
    }
   ],
   "source": [
    "#Armstrong number:\n",
    "\n",
    "\n",
    "#153\n",
    "#1634\n",
    "#370\n",
    "#371\n",
    "#153 = (1) ** 3 + (5)** 3 + (3)**3\n",
    "#370 ==> 3 ** 3 + 7 ** 3 + 0 **3\n",
    "\n",
    "\n",
    "\n",
    "lhs = 370\n",
    "power = len(str(lhs))\n",
    "sum = 0\n",
    "\n",
    "\n",
    "for i in str(lhs):\n",
    "    sum = sum + int(i) ** power\n",
    "\n",
    "if lhs ==sum:\n",
    "    print(\"Armstrong number !!!\")\n",
    "else:\n",
    "    print(\"Not a armstrong !!!\")"
   ]
  },
  {
   "cell_type": "code",
   "execution_count": 17,
   "id": "4f34fb30",
   "metadata": {},
   "outputs": [
    {
     "name": "stdout",
     "output_type": "stream",
     "text": [
      "0\n",
      "37\n",
      "343\n",
      "3\n",
      "370\n",
      "0\n",
      "370\n"
     ]
    }
   ],
   "source": [
    "num = 370\n",
    "power = len(str(num))\n",
    "sum_value = 0\n",
    "\n",
    "while num != 0:\n",
    "    temp = num % 10\n",
    "    print(temp)\n",
    "    sum_value = sum_value + (temp ** power)\n",
    "    print(sum_value)\n",
    "    num = num // 10\n",
    "    print(num)\n",
    "    \n",
    "    \n",
    "print(sum_value)"
   ]
  },
  {
   "cell_type": "code",
   "execution_count": null,
   "id": "1f220a45",
   "metadata": {},
   "outputs": [],
   "source": [
    "370\n",
    "\n",
    "% 10 ===> 0\n",
    "\n",
    "\n",
    "3,7,0\n",
    "\n",
    "\n",
    "\n",
    "21 % 10 == 1\n",
    "\n",
    "3456788 % 10 ==> 8\n",
    "\n",
    "1 % 10 ==> 1\n",
    "\n",
    "\n",
    "370 ===> \n",
    "\n",
    "% 10 ==> 0 \n",
    "// 10 ==> 37 \n",
    "\n",
    "\n",
    "37 \n",
    "\n",
    "%10 ==> 7\n",
    "// 10 ===> 3\n",
    "\n",
    "\n",
    "3 \n",
    "\n",
    "%10 ===> 3\n",
    "// 10 ==> 0"
   ]
  },
  {
   "cell_type": "code",
   "execution_count": 23,
   "id": "7d04a036",
   "metadata": {},
   "outputs": [
    {
     "name": "stdout",
     "output_type": "stream",
     "text": [
      "[0, 1, 1, 2, 3, 5, 8, 13, 21, 34, 55, 89]\n"
     ]
    }
   ],
   "source": [
    "#Fibonacci series\n",
    "\n",
    "#0,1,1,2,3,5,8,13....\n",
    "\n",
    "Lst = [0,1]\n",
    "\n",
    "for i in range(10):\n",
    "    #print(Lst)\n",
    "    Lst.append(Lst[-1] + Lst[-2])\n",
    "    \n",
    "print(Lst)"
   ]
  },
  {
   "cell_type": "code",
   "execution_count": 32,
   "id": "b9f172c7",
   "metadata": {},
   "outputs": [
    {
     "name": "stdout",
     "output_type": "stream",
     "text": [
      "[2, 7]\n",
      "Non prime number: 14\n"
     ]
    }
   ],
   "source": [
    "#Multiplier\n",
    "\n",
    "\n",
    "#Prime number\n",
    "\n",
    "#2  ==> 1,2 ==> prime numner\n",
    "#3  ==> 1,3 ===> prime\n",
    "#4  ==> 1,2,4 ==> non prime\n",
    "#5  ==> 1,5 ==> prime\n",
    "#6  ==> 1,2,3,6 ==> non prime\n",
    "#7  ==> 1,7 ==> prime\n",
    "#8  ==> 1,2,4,8 ==> non prime\n",
    "#9  ==> 1,3,9 ==> non prime\n",
    "#12 ==> 1,2,3,4,6,12 ==> non prime\n",
    "\n",
    "\n",
    "val = 14\n",
    "multipliers = []\n",
    "\n",
    "\n",
    "for i in range(2,val):\n",
    "    if val % i == 0:\n",
    "        multipliers.append(i)\n",
    "        \n",
    "print(multipliers)\n",
    "        \n",
    "if len(multipliers) == 0:\n",
    "    print(\"prime number:\", val)\n",
    "else:\n",
    "    print(\"Non prime number:\",val)"
   ]
  },
  {
   "cell_type": "code",
   "execution_count": 37,
   "id": "39611a18",
   "metadata": {},
   "outputs": [
    {
     "name": "stdout",
     "output_type": "stream",
     "text": [
      "Not Anagram\n",
      "{'e', 'r', 'h', 't', 'a'}\n",
      "{'e', 'r', 'h', 't', 'a'}\n"
     ]
    }
   ],
   "source": [
    "input1 = \"earth\"\n",
    "input2 = \"earthh\"\n",
    "\n",
    "if len(input1) == len(input2) and set(input1) == set(input2):\n",
    "    print(\"Anagram\")\n",
    "else:\n",
    "    print(\"Not Anagram\")\n",
    "\n",
    "print(set(input1))\n",
    "print(set(input2))\n",
    "\n"
   ]
  },
  {
   "cell_type": "code",
   "execution_count": 48,
   "id": "89691d19",
   "metadata": {},
   "outputs": [
    {
     "name": "stdout",
     "output_type": "stream",
     "text": [
      "k\n",
      "ak\n",
      "mak\n",
      "amak\n",
      "lamak\n",
      "lamak\n"
     ]
    }
   ],
   "source": [
    "#malayalam ==> palindrome\n",
    "\n",
    "#symmetric ==>  khokho\n",
    "\n",
    "#\"kamal\" ==> \"lamak\"\n",
    "val = \"kamal\"\n",
    "str1 = \"\"\n",
    "\n",
    "for i in val:\n",
    "    str1 = i + str1\n",
    "    print(str1)\n",
    "\n",
    "print(str1)\n"
   ]
  },
  {
   "cell_type": "code",
   "execution_count": null,
   "id": "5c8e9850",
   "metadata": {},
   "outputs": [],
   "source": []
  }
 ],
 "metadata": {
  "kernelspec": {
   "display_name": "Python 3 (ipykernel)",
   "language": "python",
   "name": "python3"
  },
  "language_info": {
   "codemirror_mode": {
    "name": "ipython",
    "version": 3
   },
   "file_extension": ".py",
   "mimetype": "text/x-python",
   "name": "python",
   "nbconvert_exporter": "python",
   "pygments_lexer": "ipython3",
   "version": "3.9.13"
  }
 },
 "nbformat": 4,
 "nbformat_minor": 5
}
