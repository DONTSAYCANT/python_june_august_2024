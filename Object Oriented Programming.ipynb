{
 "cells": [
  {
   "cell_type": "code",
   "execution_count": null,
   "metadata": {},
   "outputs": [],
   "source": [
    "#class and object\n",
    "#Class variable and object variable\n",
    "#__init__method\n",
    "#constructor\n",
    "#Destructor\n",
    "#Static method vs class method\n",
    "\n",
    "#Inheritance and its types\n",
    "#Method overriding\n",
    "#super function\n",
    "#abstract class and method\n",
    "#Method resolution order (MRO) and Diamond shape problem\n",
    "#Encapsulation\n",
    "#polymorphism\n"
   ]
  },
  {
   "cell_type": "code",
   "execution_count": null,
   "metadata": {},
   "outputs": [],
   "source": [
    "#What's object oriented programming ? what is the advantage ?\n",
    "\n",
    "#functional programming ===> functions variable \n",
    "#oo programming OOPS  ===> Methods and Attributes   classes and objects\n",
    "\n",
    "#Method ===> function inside the class\n",
    "#Attribute ===> variable inside the class\n",
    "\n",
    "#class ===> blueprint for the system or blueprint for the object\n",
    "#Class ==> combination of methods and attributes\n",
    "\n",
    "\n",
    "#Object ==> instantiation of the class \n",
    "\n",
    "\n",
    "class (Empty application form) ===> empty form which asking for details ===> need to be filled by student \n",
    "\n",
    "Object ==> \n",
    "\n",
    "Student1 ==> student form1\n",
    "Student form2\n",
    "Student form3 \n",
    "\n",
    "class one for one purpose\n",
    "Object can be anything\n",
    "\n"
   ]
  },
  {
   "cell_type": "code",
   "execution_count": 1,
   "metadata": {},
   "outputs": [
    {
     "name": "stdout",
     "output_type": "stream",
     "text": [
      "10\n",
      "<class 'int'>\n"
     ]
    }
   ],
   "source": [
    "a = 10  #object1\n",
    "\n",
    "b  = 20 #object2\n",
    "\n",
    "print(a)\n",
    "print(type(a))"
   ]
  },
  {
   "cell_type": "code",
   "execution_count": null,
   "metadata": {},
   "outputs": [],
   "source": [
    "#class and object:\n",
    "\n",
    "#How to create empty class\n",
    "\n",
    "class class_name:\n",
    "    pass\n",
    "\n",
    "object_1 = class_name()\n",
    "\n",
    "\n",
    "object_2 = class_name()\n",
    "\n",
    "\n",
    "object_3 = class_name()\n"
   ]
  },
  {
   "cell_type": "code",
   "execution_count": null,
   "metadata": {},
   "outputs": [],
   "source": [
    "school_name = \"kvs high school\"\n",
    "branch = \"delhi\""
   ]
  },
  {
   "cell_type": "code",
   "execution_count": 5,
   "metadata": {},
   "outputs": [
    {
     "name": "stdout",
     "output_type": "stream",
     "text": [
      "Constructor is easy !!!!\n",
      "kvs high school\n",
      "Constructor is easy !!!!\n"
     ]
    }
   ],
   "source": [
    "class School_admission:\n",
    "    school_name = \"kvs high school\" #attribute\n",
    "    branch = \"delhi\"\n",
    "    \n",
    "    def __init__(self):\n",
    "        print(\"Constructor is easy !!!!\")\n",
    "    \n",
    "Student1 = School_admission()\n",
    "\n",
    "print(Student1.school_name)\n",
    "\n",
    "Student2 = School_admission()"
   ]
  },
  {
   "cell_type": "code",
   "execution_count": 2,
   "metadata": {},
   "outputs": [
    {
     "name": "stdout",
     "output_type": "stream",
     "text": [
      "before change\n",
      "Student1 school kvs high school\n",
      "Student1 branch delhi\n",
      "Student2 school kvs high school\n",
      "Student2 school delhi\n",
      "School Admission school kvs high school\n",
      "School Admission branch delhi\n",
      "Student1 object attribute change\n",
      "Student1 school kvs high school\n",
      "Student1 branch punjab\n",
      "Student2 school kvs high school\n",
      "Student2 school delhi\n",
      "School Admission school kvs high school\n",
      "School Admission branch delhi\n"
     ]
    }
   ],
   "source": [
    "#class attribute ===> attributes/variables which are common to class\n",
    "\n",
    "class School_admission:\n",
    "    school_name = \"kvs high school\" #attribute\n",
    "    branch = \"delhi\"\n",
    "    \n",
    "Student1 = School_admission()\n",
    "Student2 = School_admission()\n",
    "\n",
    "\n",
    "print(\"before change\")\n",
    "print(\"Student1 school\", Student1.school_name)\n",
    "print(\"Student1 branch\", Student1.branch)\n",
    "print(\"Student2 school\", Student2.school_name)\n",
    "print(\"Student2 school\", Student2.branch)\n",
    "print(\"School Admission school\", School_admission.school_name)\n",
    "print(\"School Admission branch\", School_admission.branch)\n",
    "\n",
    "print(\"Student1 object attribute change\" )\n",
    "\n",
    "Student1.branch = \"punjab\" #object attribute\n",
    "\n",
    "print(\"Student1 school\", Student1.school_name)\n",
    "print(\"Student1 branch\", Student1.branch)\n",
    "\n",
    "print(\"Student2 school\", Student2.school_name)\n",
    "print(\"Student2 school\", Student2.branch)\n",
    "\n",
    "print(\"School Admission school\", School_admission.school_name)\n",
    "print(\"School Admission branch\", School_admission.branch)"
   ]
  },
  {
   "cell_type": "code",
   "execution_count": null,
   "metadata": {},
   "outputs": [],
   "source": []
  },
  {
   "cell_type": "code",
   "execution_count": 9,
   "metadata": {},
   "outputs": [
    {
     "name": "stdout",
     "output_type": "stream",
     "text": [
      "before change\n",
      "Student1 school kvs high school\n",
      "Student1 branch delhi\n",
      "Student2 school kvs high school\n",
      "Student2 school delhi\n",
      "School Admission school kvs high school\n",
      "School Admission branch delhi\n",
      "Student1 object attribute change\n",
      "Student1 school kvs high school\n",
      "Student1 branch punjab\n",
      "Student2 school kvs high school\n",
      "Student2 school delhi\n",
      "School Admission school kvs high school\n",
      "School Admission branch delhi\n",
      "School Apllication class attribute change\n",
      "Student1 school tvs high school\n",
      "Student1 branch punjab\n",
      "Student2 school tvs high school\n",
      "Student2 school delhi\n",
      "School Admission school tvs high school\n",
      "School Admission branch delhi\n"
     ]
    }
   ],
   "source": [
    "#class Attribute  and object Attribute\n",
    "\n",
    "class School_admission:\n",
    "    school_name = \"kvs high school\" #attribute\n",
    "    branch = \"delhi\"\n",
    "    \n",
    "Student1 = School_admission()\n",
    "Student2 = School_admission()\n",
    "\n",
    "\n",
    "print(\"before change\")\n",
    "\n",
    "print(\"Student1 school\", Student1.school_name)\n",
    "print(\"Student1 branch\", Student1.branch)\n",
    "\n",
    "print(\"Student2 school\", Student2.school_name)\n",
    "print(\"Student2 school\", Student2.branch)\n",
    "\n",
    "print(\"School Admission school\", School_admission.school_name)\n",
    "print(\"School Admission branch\", School_admission.branch)\n",
    "\n",
    "#Class attribute\n",
    "\n",
    "print(\"Student1 object attribute change\" )\n",
    "\n",
    "Student1.branch = \"punjab\" #object attribute\n",
    "\n",
    "print(\"Student1 school\", Student1.school_name)\n",
    "print(\"Student1 branch\", Student1.branch)\n",
    "\n",
    "print(\"Student2 school\", Student2.school_name)\n",
    "print(\"Student2 school\", Student2.branch)\n",
    "\n",
    "print(\"School Admission school\", School_admission.school_name)\n",
    "print(\"School Admission branch\", School_admission.branch)\n",
    "\n",
    "print(\"School Apllication class attribute change\" )\n",
    "\n",
    "School_admission.school_name = \"tvs high school\" #class attribute\n",
    "\n",
    "print(\"Student1 school\", Student1.school_name)\n",
    "print(\"Student1 branch\", Student1.branch)\n",
    "\n",
    "print(\"Student2 school\", Student2.school_name)\n",
    "print(\"Student2 school\", Student2.branch)\n",
    "\n",
    "print(\"School Admission school\", School_admission.school_name)\n",
    "print(\"School Admission branch\", School_admission.branch)\n",
    "\n",
    "\n",
    "\n"
   ]
  },
  {
   "cell_type": "code",
   "execution_count": 4,
   "metadata": {},
   "outputs": [
    {
     "name": "stdout",
     "output_type": "stream",
     "text": [
      "Delhi\n",
      "Group allocation process\n",
      "KKK high school\n",
      "<__main__.School object at 0x0000019212684550>\n",
      "40\n",
      "Hostel allocation processis done for KKK high school\n",
      "KKK high school\n",
      "<__main__.School object at 0x00000192126842B0>\n",
      "30\n",
      "KKK high school\n",
      "<__main__.School object at 0x00000192126842B0>\n",
      "58\n"
     ]
    }
   ],
   "source": [
    "class School:\n",
    "    \n",
    "    school_name = \"KKK high school\"\n",
    "    branch = \"Delhi\"\n",
    "    \n",
    "    def group_allocation(self):\n",
    "        return \"Group allocation process\"\n",
    "    \n",
    "    def Hostel_allocation(self):\n",
    "        return \"Hostel allocation process\" + \"is done for \" + self.school_name\n",
    "    \n",
    "    def add_numbers(self, a, b):\n",
    "        print(self.school_name)\n",
    "        print(self)\n",
    "        return a + b\n",
    "    \n",
    "\n",
    "student1 = School() #object creation\n",
    "print(student1.branch) #Access class attribute through object\n",
    "print(student1.group_allocation()) #Access class methods through object\n",
    "print(student1.school_name)\n",
    "print(student1.add_numbers(15,25))\n",
    "\n",
    "\n",
    "student2 = School()\n",
    "print(student2.Hostel_allocation())\n",
    "print(student2.add_numbers(10,20))\n",
    "print(student2.add_numbers(34,24))"
   ]
  },
  {
   "cell_type": "code",
   "execution_count": null,
   "metadata": {},
   "outputs": [],
   "source": []
  },
  {
   "cell_type": "code",
   "execution_count": 5,
   "metadata": {},
   "outputs": [
    {
     "name": "stdout",
     "output_type": "stream",
     "text": [
      "Delhi\n",
      "Group allocation process\n",
      "<__main__.School object at 0x000001FB4AE60408>\n",
      "Hostel allocation processis done for KKK high school\n",
      "<__main__.School object at 0x000001FB4B002348>\n",
      "Hostel allocation processis done for KKK high school\n",
      "<__main__.School object at 0x000001FB4B002348>\n",
      "Hostel allocation processis done for KKK high school\n"
     ]
    }
   ],
   "source": [
    "class School:\n",
    "    school_name = \"KKK high school\"\n",
    "    branch = \"Delhi\"\n",
    "    def group_allocation(self):\n",
    "        return \"Group allocation process\"\n",
    "    def Hostel_allocation(self):\n",
    "        print(self)\n",
    "        return \"Hostel allocation process\" + \"is done for \" + self.school_name\n",
    "    \n",
    "\n",
    "student1 = School()\n",
    "print(student1.branch) #Access class attribute through object\n",
    "print(student1.group_allocation()) #Access class methods through object\n",
    "\n",
    "student2 = School()\n",
    "print(student2.Hostel_allocation())\n",
    "\n",
    "student3 = School()\n",
    "print(School.Hostel_allocation(student3)) #Traditional way  <class name>.<method name>(object)\n",
    "print(student3.Hostel_allocation()) #recent way             <object>.<method name>"
   ]
  },
  {
   "cell_type": "code",
   "execution_count": 5,
   "metadata": {},
   "outputs": [
    {
     "name": "stdout",
     "output_type": "stream",
     "text": [
      "checking constructor call\n",
      "Delhi\n",
      "Group allocation process\n",
      "checking constructor call\n",
      "Hostel allocation processis done for KKK high schoolfor student Raogroup2\n",
      "checking constructor call\n",
      "Hostel allocation processis done for KKK high schoolfor student Jaigroup3\n",
      "Hostel allocation processis done for KKK high schoolfor student Jaigroup3\n"
     ]
    }
   ],
   "source": [
    "#constructor:  \n",
    "\n",
    "#Method which called automatically while creating object (No need to do function call)\n",
    "\n",
    "class School:\n",
    "    \n",
    "    school_name = \"KKK high school\"\n",
    "    branch = \"Delhi\"\n",
    "    \n",
    "    def __init__(self,student_name, group): #constructor\n",
    "        print(\"checking constructor call\")\n",
    "        self.student_name = student_name\n",
    "        self.group = group\n",
    "        \n",
    "        #parameterised : only self no other args\n",
    "        #Non parameterised: self + atleast 1 parameter\n",
    "    \n",
    "    def group_allocation(self):\n",
    "        return \"Group allocation process\"\n",
    "    \n",
    "    def Hostel_allocation(self):\n",
    "        return \"Hostel allocation process\" + \"is done for \" + self.school_name + \"for student \" + self.student_name + self.group\n",
    "    \n",
    "\n",
    "student1 = School(\"Ram\", \"group1\") #Object attribute\n",
    "print(student1.branch) #Access class attribute through object\n",
    "print(student1.group_allocation()) #Access class methods through object\n",
    "\n",
    "\n",
    "student2 = School(\"Rao\", \"group2\")\n",
    "print(student2.Hostel_allocation())\n",
    "\n",
    "\n",
    "student3 = School(\"Jai\", \"group3\")\n",
    "\n",
    "print(School.Hostel_allocation(student3)) #Traditional way\n",
    "print(student3.Hostel_allocation()) #recent way"
   ]
  },
  {
   "cell_type": "code",
   "execution_count": null,
   "metadata": {},
   "outputs": [],
   "source": [
    "https://www.geeksforgeeks.org/python-oops-concepts/"
   ]
  },
  {
   "cell_type": "code",
   "execution_count": 12,
   "metadata": {},
   "outputs": [
    {
     "name": "stdout",
     "output_type": "stream",
     "text": [
      "<class 'list'>\n"
     ]
    },
    {
     "ename": "NameError",
     "evalue": "name 'Li1' is not defined",
     "output_type": "error",
     "traceback": [
      "\u001b[1;31m---------------------------------------------------------------------------\u001b[0m",
      "\u001b[1;31mNameError\u001b[0m                                 Traceback (most recent call last)",
      "\u001b[1;32m~\\AppData\\Local\\Temp\\ipykernel_5112\\298952991.py\u001b[0m in \u001b[0;36m<module>\u001b[1;34m\u001b[0m\n\u001b[0;32m      2\u001b[0m \u001b[0mprint\u001b[0m\u001b[1;33m(\u001b[0m\u001b[0mtype\u001b[0m\u001b[1;33m(\u001b[0m\u001b[0mLi1\u001b[0m\u001b[1;33m)\u001b[0m\u001b[1;33m)\u001b[0m\u001b[1;33m\u001b[0m\u001b[1;33m\u001b[0m\u001b[0m\n\u001b[0;32m      3\u001b[0m \u001b[1;32mdel\u001b[0m \u001b[0mLi1\u001b[0m\u001b[1;33m\u001b[0m\u001b[1;33m\u001b[0m\u001b[0m\n\u001b[1;32m----> 4\u001b[1;33m \u001b[0mprint\u001b[0m\u001b[1;33m(\u001b[0m\u001b[0mLi1\u001b[0m\u001b[1;33m)\u001b[0m\u001b[1;33m\u001b[0m\u001b[1;33m\u001b[0m\u001b[0m\n\u001b[0m",
      "\u001b[1;31mNameError\u001b[0m: name 'Li1' is not defined"
     ]
    }
   ],
   "source": [
    "Li1 = [4,5,6,7]\n",
    "print(type(Li1))\n",
    "Li1.append()\n",
    "del Li1\n",
    "print(Li1)"
   ]
  },
  {
   "cell_type": "code",
   "execution_count": 8,
   "metadata": {},
   "outputs": [
    {
     "name": "stdout",
     "output_type": "stream",
     "text": [
      "checking constructor call\n",
      "destructor called\n",
      "Delhi\n",
      "Group allocation process\n",
      "destructor called\n"
     ]
    }
   ],
   "source": [
    "class School:\n",
    "    \n",
    "    school_name = \"KKK high school\"\n",
    "    branch = \"Delhi\"\n",
    "    \n",
    "    def __init__(self,student_name): #constructor\n",
    "        print(\"checking constructor call\")\n",
    "        self.student_name = student_name\n",
    "    \n",
    "    def group_allocation(self):\n",
    "        return \"Group allocation process\"\n",
    "    \n",
    "    def Hostel_allocation(self):\n",
    "        return \"Hostel allocation process\" + \"is done for \" + self.school_name + \"for student \" + self.student_name\n",
    "    \n",
    "    def __del__(self):\n",
    "        print(\"destructor called\")\n",
    "        \n",
    "    \n",
    "\n",
    "student1 = School(\"Ram\") #Object attribute\n",
    "print(student1.branch) #Access class attribute through object\n",
    "print(student1.group_allocation()) #Access class methods through object\n",
    "\n",
    "del student1"
   ]
  },
  {
   "cell_type": "code",
   "execution_count": 19,
   "metadata": {},
   "outputs": [
    {
     "name": "stdout",
     "output_type": "stream",
     "text": [
      "Delhi\n",
      "Group allocation process\n",
      "feedback collection process\n"
     ]
    }
   ],
   "source": [
    "#Static methosd\n",
    "\n",
    "class School:\n",
    "    \n",
    "    school_name = \"KKK high school\"\n",
    "    branch = \"Delhi\"\n",
    "    \n",
    "    \n",
    "    def group_allocation(self):\n",
    "        return \"Group allocation process\"\n",
    "    \n",
    "    def Hostel_allocation(self):\n",
    "        return \"Hostel allocation process\" + \"is done for \" + self.school_name + \"for student \" + self.student_name\n",
    " \n",
    "    @staticmethod\n",
    "    def feedback():\n",
    "        return \"feedback collection process\"\n",
    "        \n",
    "        \n",
    "student1 = School() #Object attribute\n",
    "print(student1.branch) #Access class attribute through object\n",
    "print(student1.group_allocation()) #Access class methods through object\n",
    "\n",
    "print(student1.feedback())\n"
   ]
  },
  {
   "cell_type": "code",
   "execution_count": 1,
   "metadata": {},
   "outputs": [
    {
     "name": "stdout",
     "output_type": "stream",
     "text": [
      "checking constructor call\n",
      "Delhi\n",
      "Group allocation process\n",
      "feedback collection process\n",
      "feedback school collected KKK high school\n"
     ]
    }
   ],
   "source": [
    "#class method\n",
    "\n",
    "class School:\n",
    "    \n",
    "    school_name = \"KKK high school\"\n",
    "    branch = \"Delhi\"\n",
    "    \n",
    "    def __init__(self,student_name): #constructor\n",
    "        print(\"checking constructor call\")\n",
    "        self.student_name = student_name\n",
    "    \n",
    "    def group_allocation(self):\n",
    "        return \"Group allocation process\"\n",
    "    \n",
    "    def Hostel_allocation(self):\n",
    "        return \"Hostel allocation process\" + \"is done for \" + self.school_name + \"for student \" + self.student_name\n",
    " \n",
    "    @staticmethod  #You cannnot access both class attribute and object attribute\n",
    "    def feedback():\n",
    "        return \"feedback collection process\"\n",
    "    \n",
    "    @classmethod #you can access only class level things\n",
    "    def feedback_school(cls):\n",
    "        return \"feedback school collected \" + cls.school_name\n",
    "        \n",
    "        \n",
    "student1 = School(\"Ram\") #Object attribute\n",
    "print(student1.branch) #Access class attribute through object\n",
    "print(student1.group_allocation()) #Access class methods through object\n",
    "\n",
    "print(student1.feedback())\n",
    "print(student1.feedback_school())"
   ]
  },
  {
   "cell_type": "code",
   "execution_count": null,
   "metadata": {},
   "outputs": [],
   "source": [
    "\n",
    "#Inheritance and its types\n",
    "#Method overriding\n",
    "#super function\n",
    "\n",
    "\n",
    "#Method resolution order (MRO) and Diamond shape problem\n",
    "#abstract class and method\n",
    "#Encapsulation\n",
    "#polymorphism"
   ]
  },
  {
   "cell_type": "code",
   "execution_count": null,
   "metadata": {},
   "outputs": [],
   "source": [
    "#Inheritance and types\n",
    "\n",
    "\n",
    "#swiggy  2018\n",
    "#swiggy grocery  2022\n",
    "\n",
    "\n",
    "#Utilities ==> functionalities \n",
    "\n",
    "#Inheritance  ===> inheriting properties (attributes and methods) of parent class (super/main class ) from child class (sub class)\n",
    "\n",
    "\n",
    "#Five different \n",
    "\n",
    "#single inheritance\n",
    "#multiple inheritance\n",
    "#multi level inheritance\n",
    "#hierarchical inheritance\n",
    "#hybrid inheritance\n",
    "\n"
   ]
  },
  {
   "cell_type": "code",
   "execution_count": 3,
   "metadata": {},
   "outputs": [
    {
     "name": "stdout",
     "output_type": "stream",
     "text": [
      "This is swiggy software usage way\n",
      "This is swiggy grocery software usage way\n"
     ]
    },
    {
     "ename": "AttributeError",
     "evalue": "'swiggy_grocery' object has no attribute 'software_usage_swiggy'",
     "output_type": "error",
     "traceback": [
      "\u001b[1;31m---------------------------------------------------------------------------\u001b[0m",
      "\u001b[1;31mAttributeError\u001b[0m                            Traceback (most recent call last)",
      "\u001b[1;32m<ipython-input-3-bace7848ce40>\u001b[0m in \u001b[0;36m<module>\u001b[1;34m\u001b[0m\n\u001b[0;32m     14\u001b[0m \u001b[0mcustomer2\u001b[0m \u001b[1;33m=\u001b[0m \u001b[0mswiggy_grocery\u001b[0m\u001b[1;33m(\u001b[0m\u001b[1;33m)\u001b[0m\u001b[1;33m\u001b[0m\u001b[1;33m\u001b[0m\u001b[0m\n\u001b[0;32m     15\u001b[0m \u001b[0mprint\u001b[0m\u001b[1;33m(\u001b[0m\u001b[0mcustomer2\u001b[0m\u001b[1;33m.\u001b[0m\u001b[0msoftware_usage_swiggy_grocery\u001b[0m\u001b[1;33m(\u001b[0m\u001b[1;33m)\u001b[0m\u001b[1;33m)\u001b[0m\u001b[1;33m\u001b[0m\u001b[1;33m\u001b[0m\u001b[0m\n\u001b[1;32m---> 16\u001b[1;33m \u001b[0mprint\u001b[0m\u001b[1;33m(\u001b[0m\u001b[0mcustomer2\u001b[0m\u001b[1;33m.\u001b[0m\u001b[0msoftware_usage_swiggy\u001b[0m\u001b[1;33m(\u001b[0m\u001b[1;33m)\u001b[0m\u001b[1;33m)\u001b[0m\u001b[1;33m\u001b[0m\u001b[1;33m\u001b[0m\u001b[0m\n\u001b[0m",
      "\u001b[1;31mAttributeError\u001b[0m: 'swiggy_grocery' object has no attribute 'software_usage_swiggy'"
     ]
    }
   ],
   "source": [
    "#Normal class call\n",
    "\n",
    "class swiggy:  \n",
    "    def software_usage_swiggy(self):\n",
    "        return \"This is swiggy software usage way\"\n",
    "\n",
    "    \n",
    "class swiggy_grocery:\n",
    "    def software_usage_swiggy_grocery(self):\n",
    "        return \"This is swiggy grocery software usage way\"\n",
    "    \n",
    "customer1 = swiggy()\n",
    "print(customer1.software_usage_swiggy())\n",
    "\n",
    "\n",
    "customer2 = swiggy_grocery()\n",
    "print(customer2.software_usage_swiggy_grocery())\n",
    "print(customer2.software_usage_swiggy())"
   ]
  },
  {
   "cell_type": "code",
   "execution_count": 4,
   "metadata": {},
   "outputs": [
    {
     "name": "stdout",
     "output_type": "stream",
     "text": [
      "This is swiggy software usage way\n",
      "This is swiggy grocery software usage way\n",
      "This is swiggy software usage way\n"
     ]
    }
   ],
   "source": [
    "#Swiggy grocery #single inheritance\n",
    "\n",
    "class swiggy:  \n",
    "    def software_usage_swiggy(self):\n",
    "        return \"This is swiggy software usage way\"\n",
    "\n",
    "    \n",
    "class swiggy_grocery(swiggy):\n",
    "    def software_usage_swiggy_grocery(self):\n",
    "        return \"This is swiggy grocery software usage way\"\n",
    "    \n",
    "customer1 = swiggy()\n",
    "print(customer1.software_usage_swiggy())\n",
    "\n",
    "\n",
    "customer2 = swiggy_grocery()\n",
    "print(customer2.software_usage_swiggy_grocery())\n",
    "print(customer2.software_usage_swiggy())"
   ]
  },
  {
   "cell_type": "code",
   "execution_count": 5,
   "metadata": {},
   "outputs": [
    {
     "name": "stdout",
     "output_type": "stream",
     "text": [
      "This is swiggy software usage way\n",
      "This is swiggy grocery software usage way\n",
      "This is swiggy all in one\n",
      "This is swiggy software usage way\n",
      "This is swiggy grocery software usage way\n"
     ]
    }
   ],
   "source": [
    "#Multiple inheritance ==> multiple parents for single child\n",
    "\n",
    "class swiggy:  \n",
    "    def software_usage_swiggy(self):\n",
    "        return \"This is swiggy software usage way\"\n",
    "\n",
    "    \n",
    "class swiggy_grocery:\n",
    "    def software_usage_swiggy_grocery(self):\n",
    "        return \"This is swiggy grocery software usage way\"\n",
    "    \n",
    "class swiggy_all(swiggy, swiggy_grocery):\n",
    "    def software_usage_swiggy_all(self):\n",
    "        return \"This is swiggy all in one\"\n",
    "    \n",
    "    \n",
    "customer1 = swiggy()\n",
    "print(customer1.software_usage_swiggy())\n",
    "\n",
    "\n",
    "customer2 = swiggy_grocery()\n",
    "print(customer2.software_usage_swiggy_grocery())\n",
    "\n",
    "customer3 = swiggy_all()\n",
    "\n",
    "print(customer3.software_usage_swiggy_all())\n",
    "print(customer3.software_usage_swiggy())\n",
    "print(customer3.software_usage_swiggy_grocery())\n"
   ]
  },
  {
   "cell_type": "code",
   "execution_count": 6,
   "metadata": {},
   "outputs": [
    {
     "name": "stdout",
     "output_type": "stream",
     "text": [
      "This is delivery_parter\n",
      "This is swiggy software usage way\n",
      "This is delivery_parter\n",
      "This is swiggy grocery software usage way\n",
      "This is delivery_parter\n"
     ]
    }
   ],
   "source": [
    "#Hierarchical inheritance ==> single parent for multiple child\n",
    "\n",
    "class delivery_parter:\n",
    "    def software_usage_delivery_parter(self):\n",
    "        return \"This is delivery_parter\"\n",
    "\n",
    "class swiggy(delivery_parter):  \n",
    "    def software_usage_swiggy(self):\n",
    "        return \"This is swiggy software usage way\"\n",
    "\n",
    "    \n",
    "class swiggy_grocery(delivery_parter):\n",
    "    def software_usage_swiggy_grocery(self):\n",
    "        return \"This is swiggy grocery software usage way\"\n",
    "    \n",
    "    \n",
    "delivery_customer = delivery_parter()\n",
    "print(delivery_customer.software_usage_delivery_parter())  \n",
    "\n",
    "customer1 = swiggy()\n",
    "print(customer1.software_usage_swiggy())\n",
    "print(customer1.software_usage_delivery_parter())\n",
    "\n",
    "customer2 = swiggy_grocery()\n",
    "print(customer2.software_usage_swiggy_grocery())\n",
    "print(customer2.software_usage_delivery_parter())\n",
    "\n"
   ]
  },
  {
   "cell_type": "code",
   "execution_count": 8,
   "metadata": {},
   "outputs": [
    {
     "name": "stdout",
     "output_type": "stream",
     "text": [
      "This is delivery_parter\n",
      "This is swiggy software usage way\n",
      "This is delivery_parter\n",
      "This is swiggy software usage way\n",
      "This is delivery_parter\n",
      "This is swiggy all in one\n"
     ]
    }
   ],
   "source": [
    "#Multi lvel inheritance   ==> grand parent  ==> parent  ==> child\n",
    "\n",
    "class delivery_parter: #grand parent\n",
    "    def software_usage_delivery_parter(self):\n",
    "        return \"This is delivery_parter\"\n",
    "\n",
    "class swiggy(delivery_parter):   #parent\n",
    "    def software_usage_swiggy(self):\n",
    "        return \"This is swiggy software usage way\"\n",
    "    \n",
    "class swiggy_all(swiggy): #child\n",
    "    def software_usage_swiggy_all(self):\n",
    "        return \"This is swiggy all in one\"\n",
    "    \n",
    "customer1 = delivery_parter()\n",
    "print(customer1.software_usage_delivery_parter())\n",
    "\n",
    "customer2 = swiggy()\n",
    "print(customer2.software_usage_swiggy())\n",
    "print(customer2.software_usage_delivery_parter())\n",
    "\n",
    "customer3 = swiggy_all()\n",
    "print(customer3.software_usage_swiggy())\n",
    "print(customer3.software_usage_delivery_parter())\n",
    "print(customer3.software_usage_swiggy_all())"
   ]
  },
  {
   "cell_type": "code",
   "execution_count": null,
   "metadata": {},
   "outputs": [],
   "source": [
    "#Hybrid ===> combination of any two or more\n",
    "\n",
    "#multiple + multilevel\n",
    "#hierarchical + multiple\n",
    "\n",
    "https://www.geeksforgeeks.org/types-of-inheritance-python/?ref=lbp"
   ]
  },
  {
   "cell_type": "code",
   "execution_count": 7,
   "metadata": {},
   "outputs": [
    {
     "name": "stdout",
     "output_type": "stream",
     "text": [
      "This is swiggy software usage way\n",
      "This billing for swiggy\n",
      "This is swiggy grocery software usage way\n",
      "This is swiggy software usage way\n",
      "This billing for swiggy grocery\n"
     ]
    }
   ],
   "source": [
    "#Method overriding\n",
    "class swiggy:  \n",
    "    def software_usage_swiggy(self):\n",
    "        return \"This is swiggy software usage way\"\n",
    "    \n",
    "    def billing(self):\n",
    "        return \"This billing for swiggy\"\n",
    "\n",
    "    \n",
    "class swiggy_grocery(swiggy):\n",
    "    def software_usage_swiggy_grocery(self):\n",
    "        return \"This is swiggy grocery software usage way\"\n",
    "    \n",
    "    def billing(self): #child will get priority over parent\n",
    "        return \"This billing for swiggy grocery\"\n",
    "    \n",
    "customer1 = swiggy()\n",
    "print(customer1.software_usage_swiggy())\n",
    "print(customer1.billing())\n",
    "\n",
    "\n",
    "\n",
    "customer2 = swiggy_grocery()\n",
    "print(customer2.software_usage_swiggy_grocery())\n",
    "print(customer2.software_usage_swiggy())\n",
    "print(customer2.billing())\n"
   ]
  },
  {
   "cell_type": "code",
   "execution_count": 11,
   "metadata": {},
   "outputs": [
    {
     "name": "stdout",
     "output_type": "stream",
     "text": [
      "This is swiggy software usage way\n",
      "This is swiggy grocery software usage way\n",
      "This is swiggy software usage way\n",
      "parent method call through super:  This is swiggy software usage way\n",
      "This billing for swiggy grocery\n"
     ]
    }
   ],
   "source": [
    "#Super function\n",
    "class swiggy:  \n",
    "    def software_usage_swiggy(self):\n",
    "        return \"This is swiggy software usage way\"\n",
    "    \n",
    "    def billing(self):\n",
    "        return \"This billing for swiggy\"\n",
    "\n",
    "    \n",
    "class swiggy_grocery(swiggy):\n",
    "    def software_usage_swiggy_grocery(self):\n",
    "        return \"This is swiggy grocery software usage way\"\n",
    "    \n",
    "    def billing(self): \n",
    "        print(\"parent method call through super: \",super().software_usage_swiggy())\n",
    "        return \"This billing for swiggy grocery\"\n",
    "    \n",
    "customer1 = swiggy()\n",
    "print(customer1.software_usage_swiggy())\n",
    "\n",
    "\n",
    "customer2 = swiggy_grocery()\n",
    "print(customer2.software_usage_swiggy_grocery())\n",
    "print(customer2.software_usage_swiggy())\n",
    "print(customer2.billing())\n",
    "\n",
    "\n"
   ]
  },
  {
   "cell_type": "code",
   "execution_count": 2,
   "metadata": {},
   "outputs": [
    {
     "name": "stdout",
     "output_type": "stream",
     "text": [
      "common func from cls3\n"
     ]
    }
   ],
   "source": [
    "#Method resolution order or Diamond shape problem\n",
    "\n",
    "class cls1:\n",
    "    def common_func(self):\n",
    "        return \"common func from cls1\"\n",
    "\n",
    "\n",
    "class cls2:\n",
    "    def common_func(self):\n",
    "        return \"common func from cls2\"\n",
    "    \n",
    "\n",
    "class cls3:\n",
    "    def common_func(self):\n",
    "        return \"common func from cls3\"\n",
    "    \n",
    "\n",
    "class cls4:\n",
    "    def common_func(self):\n",
    "        return \"common func from cls4\"\n",
    "\n",
    "    \n",
    "obj1 = cls3()\n",
    "print(obj1.common_func())"
   ]
  },
  {
   "cell_type": "code",
   "execution_count": 8,
   "metadata": {},
   "outputs": [
    {
     "name": "stdout",
     "output_type": "stream",
     "text": [
      "common func from cls4\n"
     ]
    }
   ],
   "source": [
    "class cls1:\n",
    "    def common_func(self):\n",
    "        return \"common func from cls1\"\n",
    "\n",
    "\n",
    "class cls2(cls1):\n",
    "    def common_func(self):\n",
    "        return \"common func from cls2\"\n",
    "    \n",
    "\n",
    "class cls3(cls1):\n",
    "    def common_func(self):\n",
    "        return \"common func from cls3\"\n",
    "    \n",
    "\n",
    "class cls4(cls3,cls2):\n",
    "    def common_func(self):\n",
    "        return \"common func from cls4\"\n",
    "\n",
    "    \n",
    "obj1 = cls4()\n",
    "print(obj1.common_func())"
   ]
  },
  {
   "cell_type": "code",
   "execution_count": 9,
   "metadata": {},
   "outputs": [
    {
     "name": "stdout",
     "output_type": "stream",
     "text": [
      "common func from cls2\n"
     ]
    }
   ],
   "source": [
    "#https://www.geeksforgeeks.org/multiple-inheritance-in-python/\n",
    "\n",
    "class cls1:\n",
    "    def common_func(self):\n",
    "        return \"common func from cls1\"\n",
    "\n",
    "\n",
    "class cls2(cls1):\n",
    "    def common_func(self):\n",
    "        return \"common func from cls2\"\n",
    "    \n",
    "\n",
    "class cls3(cls1):\n",
    "    def common_func(self):\n",
    "        return \"common func from cls3\"\n",
    "    \n",
    "\n",
    "class cls4(cls2,cls3):\n",
    "    pass\n",
    "\n",
    "    \n",
    "obj1 = cls4()\n",
    "print(obj1.common_func())"
   ]
  },
  {
   "cell_type": "code",
   "execution_count": null,
   "metadata": {},
   "outputs": [],
   "source": []
  },
  {
   "cell_type": "code",
   "execution_count": 7,
   "metadata": {},
   "outputs": [
    {
     "name": "stdout",
     "output_type": "stream",
     "text": [
      "implementation of func1 from cls3\n"
     ]
    }
   ],
   "source": [
    "#abstract class and abstract method\n",
    "#https://www.geeksforgeeks.org/abstract-classes-in-python/\n",
    "\n",
    "\n",
    "from abc import ABC, abstractmethod\n",
    "\n",
    "class cls1(ABC):  #abstract class\n",
    "    \n",
    "    @abstractmethod\n",
    "    def func1(self):\n",
    "        pass\n",
    "    \n",
    "    @abstractmethod\n",
    "    def func2(self):\n",
    "        pass\n",
    "    \n",
    "class cls2(cls1): #single inheritance from abstract class\n",
    "    \n",
    "    def func1(self):\n",
    "        return \"implementation of func1 from cls2\"\n",
    "    \n",
    "    def func2(self):\n",
    "        return \"implementation of func2 from cls2\"\n",
    "    \n",
    "    def func3(self):\n",
    "        return \"implementation of func1 from cls3\"\n",
    "    \n",
    "obj1 = cls2()\n",
    "print(obj1.func3())\n",
    "    "
   ]
  },
  {
   "cell_type": "code",
   "execution_count": 6,
   "metadata": {},
   "outputs": [
    {
     "ename": "SyntaxError",
     "evalue": "invalid syntax (1482573687.py, line 8)",
     "output_type": "error",
     "traceback": [
      "\u001b[1;36m  File \u001b[1;32m\"C:\\Users\\kanna\\AppData\\Local\\Temp\\ipykernel_30944\\1482573687.py\"\u001b[1;36m, line \u001b[1;32m8\u001b[0m\n\u001b[1;33m    https://www.geeksforgeeks.org/polymorphism-in-python/\u001b[0m\n\u001b[1;37m          ^\u001b[0m\n\u001b[1;31mSyntaxError\u001b[0m\u001b[1;31m:\u001b[0m invalid syntax\n"
     ]
    }
   ],
   "source": [
    "#polymorphism\n",
    "\n",
    "#many forms\n",
    "\n",
    "\n",
    "#polymorphism\n",
    "\n",
    "https://www.geeksforgeeks.org/polymorphism-in-python/\n",
    "\n"
   ]
  },
  {
   "cell_type": "code",
   "execution_count": null,
   "metadata": {},
   "outputs": [],
   "source": [
    "#encapsulation\n",
    "#https://www.geeksforgeeks.org/encapsulation-in-python/\n",
    "\n",
    "\n",
    "#__ ===> private member (only inside class)\n",
    "#_ ==> protected member (base class and derived class)\n",
    "#normal ==> public (anywhere)\n",
    "\n",
    "\n",
    "#Overloading\n",
    "\n",
    "\n",
    "class A:\n",
    "    \n",
    "    func1(a,b)\n",
    "\n",
    "\n",
    "    func1(a,b,c)\n",
    "    \n",
    "    \n",
    "#Not supported"
   ]
  },
  {
   "cell_type": "code",
   "execution_count": 7,
   "metadata": {},
   "outputs": [
    {
     "name": "stdout",
     "output_type": "stream",
     "text": [
      "5\n",
      "9\n"
     ]
    }
   ],
   "source": [
    "def add(x, y, z = 0):\n",
    "    return x + y+z\n",
    " \n",
    "# Driver code\n",
    "print(add(2, 3))\n",
    "print(add(2, 3, 4))"
   ]
  },
  {
   "cell_type": "code",
   "execution_count": 14,
   "metadata": {},
   "outputs": [
    {
     "ename": "SyntaxError",
     "evalue": "non-default argument follows default argument (<ipython-input-14-a47266be0b00>, line 1)",
     "output_type": "error",
     "traceback": [
      "\u001b[1;36m  File \u001b[1;32m\"<ipython-input-14-a47266be0b00>\"\u001b[1;36m, line \u001b[1;32m1\u001b[0m\n\u001b[1;33m    def add(x, y=0, z):\u001b[0m\n\u001b[1;37m           ^\u001b[0m\n\u001b[1;31mSyntaxError\u001b[0m\u001b[1;31m:\u001b[0m non-default argument follows default argument\n"
     ]
    }
   ],
   "source": [
    "def add(x, y=0, z):\n",
    "    return x + y + z\n",
    " \n",
    "# Driver code\n",
    "print(add(2, 3))\n",
    "print(add(2, 3, 4))"
   ]
  },
  {
   "cell_type": "code",
   "execution_count": 17,
   "metadata": {},
   "outputs": [
    {
     "name": "stdout",
     "output_type": "stream",
     "text": [
      "9\n",
      "9\n"
     ]
    }
   ],
   "source": [
    "def add(x, y, z, *args):\n",
    "    return x + y + z\n",
    " \n",
    "# Driver code\n",
    "print(add(2, 3, 4))\n",
    "print(add(2, 3, 4, 10))"
   ]
  },
  {
   "cell_type": "code",
   "execution_count": null,
   "metadata": {},
   "outputs": [],
   "source": [
    "March 14  8 am\n",
    "March 19  9.30 am\n",
    "Rohith\n",
    "\n",
    "kannanparthipan@gmail.com\n",
    "7259000466"
   ]
  }
 ],
 "metadata": {
  "kernelspec": {
   "display_name": "Python 3 (ipykernel)",
   "language": "python",
   "name": "python3"
  },
  "language_info": {
   "codemirror_mode": {
    "name": "ipython",
    "version": 3
   },
   "file_extension": ".py",
   "mimetype": "text/x-python",
   "name": "python",
   "nbconvert_exporter": "python",
   "pygments_lexer": "ipython3",
   "version": "3.9.13"
  }
 },
 "nbformat": 4,
 "nbformat_minor": 4
}
