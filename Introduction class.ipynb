{
 "cells": [
  {
   "cell_type": "code",
   "execution_count": null,
   "metadata": {},
   "outputs": [],
   "source": [
    "#Hackerrank account creation\n",
    "\n",
    "\n",
    "https://www.hackerrank.com/  ==> signup + login\n",
    "    \n",
    "    350 - 400 points in python\n",
    "    300 - 400 points in regex\n",
    "\n",
    "\n",
    "#Github account creation and repo creation\n",
    "\n",
    "https://github.com/  ==> signup + login\n",
    "    \n",
    "Your repositories ==> repo name  ===> public ==> Add read me file  ==> create\n",
    "\n",
    "\n",
    "#Python installation\n",
    "\n",
    "#IDE\n",
    " \n",
    "#IDLE  https://www.python.org/downloads/\n",
    "#pycharm\n",
    "#jupyter notebook\n",
    "\n",
    "\n",
    "\n",
    "1. Always join from laptop\n",
    "2. Finish tasks on time\n",
    "3. Programming references\n",
    "\n",
    "automate boring stuffs with python\n",
    "w3schools python\n",
    "https://www.geeksforgeeks.org/python-programming-language/\n",
    "https://www.geeksforgeeks.org/python-programming-examples/\n",
    "    \n",
    "4. Do some pre study and come\n",
    "5. 100 - 150 pgms in Month1\n",
    "\n",
    "\n",
    "Weekly 10 pgms\n",
    "\n",
    "\n",
    "#Topics / Task section file creation and file upload in repo\n",
    "\n",
    "https://github.com/DONTSAYCANT/January-8-am\n"
   ]
  },
  {
   "cell_type": "code",
   "execution_count": 1,
   "metadata": {},
   "outputs": [
    {
     "data": {
      "text/plain": [
       "25"
      ]
     },
     "execution_count": 1,
     "metadata": {},
     "output_type": "execute_result"
    }
   ],
   "source": [
    "10 + 15"
   ]
  },
  {
   "cell_type": "code",
   "execution_count": 2,
   "metadata": {},
   "outputs": [
    {
     "name": "stdout",
     "output_type": "stream",
     "text": [
      "25\n"
     ]
    }
   ],
   "source": [
    "#Variable is a container to store values \n",
    "\n",
    "a = 10\n",
    "b = 15\n",
    "\n",
    "c = a +  b #addition\n",
    "\n",
    "\n",
    "d = a * b \n",
    "\n",
    "e = a % b\n",
    "print(c)"
   ]
  },
  {
   "cell_type": "code",
   "execution_count": 1,
   "metadata": {},
   "outputs": [
    {
     "data": {
      "text/plain": [
       "25"
      ]
     },
     "execution_count": 1,
     "metadata": {},
     "output_type": "execute_result"
    }
   ],
   "source": [
    "10 + 15"
   ]
  },
  {
   "cell_type": "code",
   "execution_count": 7,
   "metadata": {},
   "outputs": [],
   "source": [
    "#variable\n",
    "a = 10\n",
    "b = 20\n",
    "c = 8\n",
    "d = 20\n",
    "e = 16\n",
    "f = 20\n",
    "\n",
    "#data structure \n",
    "list = [10,20,8,20,16,20]\n",
    "\n",
    "#xml / yaml / json "
   ]
  },
  {
   "cell_type": "code",
   "execution_count": 5,
   "metadata": {},
   "outputs": [
    {
     "ename": "SyntaxError",
     "evalue": "invalid syntax (726142984.py, line 5)",
     "output_type": "error",
     "traceback": [
      "\u001b[1;36m  File \u001b[1;32m\"C:\\Users\\kanna\\AppData\\Local\\Temp\\ipykernel_12732\\726142984.py\"\u001b[1;36m, line \u001b[1;32m5\u001b[0m\n\u001b[1;33m    1a = 10\u001b[0m\n\u001b[1;37m     ^\u001b[0m\n\u001b[1;31mSyntaxError\u001b[0m\u001b[1;31m:\u001b[0m invalid syntax\n"
     ]
    }
   ],
   "source": [
    "a1 = 10\n",
    "print(a1)\n",
    "\n",
    "\n",
    "1a = 10"
   ]
  },
  {
   "cell_type": "code",
   "execution_count": 3,
   "metadata": {},
   "outputs": [
    {
     "ename": "SyntaxError",
     "evalue": "invalid syntax (3069458843.py, line 1)",
     "output_type": "error",
     "traceback": [
      "\u001b[1;36m  File \u001b[1;32m\"C:\\Users\\kanna\\AppData\\Local\\Temp\\ipykernel_17628\\3069458843.py\"\u001b[1;36m, line \u001b[1;32m1\u001b[0m\n\u001b[1;33m    15  ==> integer  \"15\" ==> string\u001b[0m\n\u001b[1;37m          ^\u001b[0m\n\u001b[1;31mSyntaxError\u001b[0m\u001b[1;31m:\u001b[0m invalid syntax\n"
     ]
    }
   ],
   "source": [
    "15  ==> integer  \"15\" ==> string\n",
    "\n",
    "14.3  ==> float\n",
    "\n",
    "\"hello world\" ===> string  ===> \" \"  or ' '  ===> Generic datatype \n",
    "\n",
    "char ===> \n",
    "\n",
    "True False ==> boolean \"True\"\n",
    "\n",
    "5 + 4j ==> complex"
   ]
  },
  {
   "cell_type": "code",
   "execution_count": 16,
   "metadata": {},
   "outputs": [
    {
     "name": "stdout",
     "output_type": "stream",
     "text": [
      "kamal\n",
      "<class 'str'>\n"
     ]
    }
   ],
   "source": [
    "a = \"kamal\"\n",
    "\n",
    "print(a)\n",
    "print(type(a))\n",
    "\n",
    "\n",
    "#function_name(argument)"
   ]
  },
  {
   "cell_type": "code",
   "execution_count": 4,
   "metadata": {},
   "outputs": [],
   "source": [
    "a = True"
   ]
  },
  {
   "cell_type": "code",
   "execution_count": null,
   "metadata": {},
   "outputs": [],
   "source": [
    "print(10 + 15)"
   ]
  },
  {
   "cell_type": "code",
   "execution_count": 1,
   "metadata": {},
   "outputs": [
    {
     "ename": "SyntaxError",
     "evalue": "invalid syntax (1999612694.py, line 4)",
     "output_type": "error",
     "traceback": [
      "\u001b[1;36m  File \u001b[1;32m\"C:\\Users\\kanna\\AppData\\Local\\Temp\\ipykernel_29920\\1999612694.py\"\u001b[1;36m, line \u001b[1;32m4\u001b[0m\n\u001b[1;33m    variable ==>\u001b[0m\n\u001b[1;37m               ^\u001b[0m\n\u001b[1;31mSyntaxError\u001b[0m\u001b[1;31m:\u001b[0m invalid syntax\n"
     ]
    }
   ],
   "source": [
    "#programming basics : \n",
    "\n",
    "\n",
    "variable ==>\n",
    "data type  ===> types int float string char boolean complex\n",
    "operator ternary/Arithmetic/comparison/logical/assignment/membership\n",
    "Data structure ===> basic List tuple dictionary set\n",
    "Variable  ==> \n",
    "\n",
    "function ===> inbuilt function user def recursive function\n",
    "\n",
    "#Comments single line multi line comment\n",
    "#print function ==> end spe\n",
    "#len function\n",
    "#type function\n",
    "#input function\n",
    "#data type conversions\n",
    "#formatting output\n",
    "#basic pgms\n",
    "\n",
    "\n",
    "+ - / * \n",
    "// %  ** "
   ]
  },
  {
   "cell_type": "code",
   "execution_count": 18,
   "metadata": {},
   "outputs": [
    {
     "ename": "SyntaxError",
     "evalue": "invalid syntax (2505569624.py, line 4)",
     "output_type": "error",
     "traceback": [
      "\u001b[1;36m  File \u001b[1;32m\"C:\\Users\\kanna\\AppData\\Local\\Temp\\ipykernel_17628\\2505569624.py\"\u001b[1;36m, line \u001b[1;32m4\u001b[0m\n\u001b[1;33m    3c = 20\u001b[0m\n\u001b[1;37m     ^\u001b[0m\n\u001b[1;31mSyntaxError\u001b[0m\u001b[1;31m:\u001b[0m invalid syntax\n"
     ]
    }
   ],
   "source": [
    "a1 = 10 \n",
    "b2 = 20\n",
    "print(\"Hi before Error\")\n",
    "3c = 20\n",
    "print(\"Hello after Error\")\n",
    "\n",
    "c1 = a1 + b2\n",
    "\n",
    "print(c1)\n",
    "\n",
    "passenger_name1 = \"ram\"\n",
    "\n"
   ]
  },
  {
   "cell_type": "code",
   "execution_count": null,
   "metadata": {},
   "outputs": [],
   "source": [
    "#keyword ===> words already used by python developers for developing language"
   ]
  },
  {
   "cell_type": "code",
   "execution_count": null,
   "metadata": {},
   "outputs": [],
   "source": [
    "#Give good names to the variable (project related words)\n",
    "\n",
    "#Dont use keywords or reserved words or any function name  ===> for while class \n",
    "  https://www.w3schools.com/python/python_ref_keywords.asp\n",
    "\n",
    "#variable can use a-zA-Z0-9_ (alphanumeric) (Special char should not be there)\n",
    "\n",
    "#variable should start with a-z or A-Z or _ (you should not start with 0-9)\n",
    "\n",
    "#you should not have any spaces (_ are allowed)\n",
    "\n",
    "#camelCase\n",
    "\n",
    "#suitename\n",
    "#suiteName\n",
    "\n",
    "\n",
    "#filenametoacheiveparsing\n",
    "#fileNameToAcheiveParsing\n",
    "\n",
    "#variable case sensitive\n",
    "\n",
    "a = 10\n",
    "\n",
    "A = 20\n",
    "\n",
    "#PEP ===> python Enhancement Proposal"
   ]
  },
  {
   "cell_type": "code",
   "execution_count": null,
   "metadata": {},
   "outputs": [],
   "source": [
    "#Variable: value keeps changing, bucket/storage to store values\n",
    "#Rules for creating variables in python\n",
    "\n",
    "\n",
    "#Operator\n",
    "ternary/Arithmetic/comparison/logical/assignment/membership\n",
    "\n",
    "\n",
    "#Data type:"
   ]
  },
  {
   "cell_type": "code",
   "execution_count": 19,
   "metadata": {},
   "outputs": [
    {
     "ename": "SyntaxError",
     "evalue": "invalid syntax (1696314207.py, line 4)",
     "output_type": "error",
     "traceback": [
      "\u001b[1;36m  File \u001b[1;32m\"C:\\Users\\kanna\\AppData\\Local\\Temp\\ipykernel_17628\\1696314207.py\"\u001b[1;36m, line \u001b[1;32m4\u001b[0m\n\u001b[1;33m    integer_input_1 = 10.g\u001b[0m\n\u001b[1;37m                         ^\u001b[0m\n\u001b[1;31mSyntaxError\u001b[0m\u001b[1;31m:\u001b[0m invalid syntax\n"
     ]
    }
   ],
   "source": [
    "#Add two values\n",
    "\n",
    "\n",
    "integer_input_1 = 10\n",
    "integer_input_2 = 20\n",
    "a = 10\n",
    "b = 20\n",
    "\n",
    "c = a + b\n",
    "\n",
    "print(c)"
   ]
  },
  {
   "cell_type": "code",
   "execution_count": 3,
   "metadata": {},
   "outputs": [
    {
     "name": "stdout",
     "output_type": "stream",
     "text": [
      "10\n"
     ]
    }
   ],
   "source": [
    "var1 = 10\n",
    "print(var1)"
   ]
  },
  {
   "cell_type": "code",
   "execution_count": 4,
   "metadata": {},
   "outputs": [
    {
     "ename": "SyntaxError",
     "evalue": "invalid syntax (<ipython-input-4-73af354ae2e7>, line 1)",
     "output_type": "error",
     "traceback": [
      "\u001b[1;36m  File \u001b[1;32m\"<ipython-input-4-73af354ae2e7>\"\u001b[1;36m, line \u001b[1;32m1\u001b[0m\n\u001b[1;33m    1var = 10\u001b[0m\n\u001b[1;37m       ^\u001b[0m\n\u001b[1;31mSyntaxError\u001b[0m\u001b[1;31m:\u001b[0m invalid syntax\n"
     ]
    }
   ],
   "source": [
    "1var = 10\n",
    "print(1var)"
   ]
  },
  {
   "cell_type": "code",
   "execution_count": null,
   "metadata": {},
   "outputs": [],
   "source": [
    "input_integer = 10\n",
    "\n",
    "print()"
   ]
  },
  {
   "cell_type": "code",
   "execution_count": null,
   "metadata": {},
   "outputs": [],
   "source": [
    "#camelCase\n",
    "\n",
    "suiteNameInital = \"var\"\n",
    "\n",
    "variableCreationForFileHandlingPurpose\n",
    "\n",
    "inputInteger = 10"
   ]
  },
  {
   "cell_type": "code",
   "execution_count": null,
   "metadata": {},
   "outputs": [],
   "source": [
    "dynamic typing\n",
    "Type checking\n",
    "\n",
    "int a  = 10"
   ]
  },
  {
   "cell_type": "code",
   "execution_count": 9,
   "metadata": {},
   "outputs": [
    {
     "name": "stdout",
     "output_type": "stream",
     "text": [
      "1830944991824\n",
      "1830944991824\n",
      "1830944991984\n",
      "1830944992144\n"
     ]
    }
   ],
   "source": [
    "#Id ===> Location id number\n",
    "\n",
    "\n",
    "a = 10\n",
    "\n",
    "b = a\n",
    "\n",
    "print(id(a))\n",
    "\n",
    "print(id(b))\n",
    "\n",
    "a = a + 5\n",
    "\n",
    "b = b + 10\n",
    "\n",
    "print(id(a))\n",
    "\n",
    "print(id(b))"
   ]
  },
  {
   "cell_type": "code",
   "execution_count": 11,
   "metadata": {},
   "outputs": [
    {
     "name": "stdout",
     "output_type": "stream",
     "text": [
      "20.99999\n",
      "<class 'str'>\n"
     ]
    }
   ],
   "source": [
    "a = \"20.99999\"\n",
    "\n",
    "print(a)\n",
    "\n",
    "print(type(a))\n",
    "\n",
    "\n",
    "#string ===> generic data type\n",
    "\n",
    "#functions #provide input #it will do some activity #give output"
   ]
  },
  {
   "cell_type": "code",
   "execution_count": 6,
   "metadata": {},
   "outputs": [],
   "source": [
    "#key words or reserved words: \n",
    "\n",
    "#for while def import class if else elif break continue True False"
   ]
  },
  {
   "cell_type": "code",
   "execution_count": null,
   "metadata": {},
   "outputs": [],
   "source": [
    "data type  ===> types int float string char boolean complex\n",
    "\n",
    "\n",
    "#type of data\n",
    "\n",
    "#int      9 10 20\n",
    "#float    20.99  45.89\n",
    "#boolean   True False\n",
    "#complex   5 + 4 j (real and imaginary)\n",
    "#string     string data type ?  ==> common data type\n",
    "\n",
    "array of characters\n",
    "set of chars\n",
    "collection of chars\n",
    "\n",
    "Char ===> \n",
    "\n",
    "whatever you're writing within \"string \" ' string '\n",
    "\n",
    "\n",
    "\n"
   ]
  },
  {
   "cell_type": "code",
   "execution_count": 8,
   "metadata": {},
   "outputs": [
    {
     "name": "stdout",
     "output_type": "stream",
     "text": [
      "30\n"
     ]
    }
   ],
   "source": [
    "a = 10\n",
    "b = 20\n",
    "\n",
    "def fn1(x,y): #function definition\n",
    "    z = x + y\n",
    "    return z #output\n",
    "\n",
    "print(fn1(a,b)) #function call"
   ]
  },
  {
   "cell_type": "code",
   "execution_count": 3,
   "metadata": {},
   "outputs": [
    {
     "name": "stdout",
     "output_type": "stream",
     "text": [
      "10\n",
      "<class 'int'>\n"
     ]
    }
   ],
   "source": [
    "a = 10\n",
    "\n",
    "print(a)  #print(a, end=\"\\n\")\n",
    "print(type(a))\n",
    "\n"
   ]
  },
  {
   "cell_type": "code",
   "execution_count": 2,
   "metadata": {},
   "outputs": [
    {
     "name": "stdout",
     "output_type": "stream",
     "text": [
      "10\t<class 'int'>\n"
     ]
    }
   ],
   "source": [
    "a = 10\n",
    "\n",
    "print(a, end = \"\\t\")\n",
    "print(type(a))\n",
    "\n"
   ]
  },
  {
   "cell_type": "code",
   "execution_count": 10,
   "metadata": {},
   "outputs": [
    {
     "name": "stdout",
     "output_type": "stream",
     "text": [
      "1*2*3*4*5*6\n"
     ]
    }
   ],
   "source": [
    "print(1,2,3,4,5,6, sep=\"*\")"
   ]
  },
  {
   "cell_type": "code",
   "execution_count": null,
   "metadata": {},
   "outputs": [],
   "source": [
    "\n",
    "#Function ==> \n",
    "\n",
    "Function def\n",
    "Function call \n",
    "Function argument\n",
    "Function Return"
   ]
  },
  {
   "cell_type": "code",
   "execution_count": 20,
   "metadata": {},
   "outputs": [
    {
     "name": "stdout",
     "output_type": "stream",
     "text": [
      "hello\n"
     ]
    }
   ],
   "source": [
    "a = 11\n",
    "\n",
    "\n",
    "if a == 10:\n",
    "    print(\"hello\")\n",
    "else if \n",
    "    print(\"yuvan\")"
   ]
  },
  {
   "cell_type": "code",
   "execution_count": 39,
   "metadata": {},
   "outputs": [
    {
     "name": "stdout",
     "output_type": "stream",
     "text": [
      "30\n",
      "1020\n",
      "[3, 5, 6, 6, 7, 10]\n"
     ]
    }
   ],
   "source": [
    "a = 10\n",
    "b = 20 \n",
    "\n",
    "print(a + b)\n",
    "\n",
    "a = \"10\"\n",
    "b = \"20\" \n",
    "\n",
    "print(a + b)\n",
    "\n",
    "\n",
    "c = [3,5,6]\n",
    "d = [6,7,10]\n",
    "\n",
    "print(c + d)"
   ]
  },
  {
   "cell_type": "code",
   "execution_count": 40,
   "metadata": {},
   "outputs": [
    {
     "name": "stdout",
     "output_type": "stream",
     "text": [
      "16\n",
      "aa\n",
      "aa\n"
     ]
    },
    {
     "ename": "TypeError",
     "evalue": "unsupported operand type(s) for +: 'int' and 'str'",
     "output_type": "error",
     "traceback": [
      "\u001b[1;31m---------------------------------------------------------------------------\u001b[0m",
      "\u001b[1;31mTypeError\u001b[0m                                 Traceback (most recent call last)",
      "\u001b[1;32m~\\AppData\\Local\\Temp\\ipykernel_19624\\141273305.py\u001b[0m in \u001b[0;36m<module>\u001b[1;34m\u001b[0m\n\u001b[0;32m      3\u001b[0m \u001b[0mprint\u001b[0m\u001b[1;33m(\u001b[0m\u001b[1;34m\"a\"\u001b[0m \u001b[1;33m+\u001b[0m \u001b[1;34m\"a\"\u001b[0m\u001b[1;33m)\u001b[0m \u001b[1;31m#9\u001b[0m\u001b[1;33m\u001b[0m\u001b[1;33m\u001b[0m\u001b[0m\n\u001b[0;32m      4\u001b[0m \u001b[0mprint\u001b[0m\u001b[1;33m(\u001b[0m\u001b[1;34m'a'\u001b[0m \u001b[1;33m+\u001b[0m \u001b[1;34m'a'\u001b[0m\u001b[1;33m)\u001b[0m  \u001b[1;31m#10\u001b[0m\u001b[1;33m\u001b[0m\u001b[1;33m\u001b[0m\u001b[0m\n\u001b[1;32m----> 5\u001b[1;33m \u001b[0mprint\u001b[0m\u001b[1;33m(\u001b[0m\u001b[0ma\u001b[0m \u001b[1;33m+\u001b[0m \u001b[1;34m\"a\"\u001b[0m\u001b[1;33m)\u001b[0m \u001b[1;31m#11\u001b[0m\u001b[1;33m\u001b[0m\u001b[1;33m\u001b[0m\u001b[0m\n\u001b[0m\u001b[0;32m      6\u001b[0m \u001b[0mprint\u001b[0m\u001b[1;33m(\u001b[0m\u001b[1;34m\"a\"\u001b[0m \u001b[1;33m+\u001b[0m \u001b[1;34m'a'\u001b[0m\u001b[1;33m)\u001b[0m \u001b[1;31m#12\u001b[0m\u001b[1;33m\u001b[0m\u001b[1;33m\u001b[0m\u001b[0m\n\u001b[0;32m      7\u001b[0m \u001b[0mprint\u001b[0m\u001b[1;33m(\u001b[0m\u001b[1;34m\"a\"\u001b[0m \u001b[1;33m+\u001b[0m \u001b[0ma\u001b[0m\u001b[1;33m)\u001b[0m\u001b[1;31m#13\u001b[0m\u001b[1;33m\u001b[0m\u001b[1;33m\u001b[0m\u001b[0m\n",
      "\u001b[1;31mTypeError\u001b[0m: unsupported operand type(s) for +: 'int' and 'str'"
     ]
    }
   ],
   "source": [
    "a = 8\n",
    "print(a + a) #8\n",
    "print(\"a\" + \"a\") #9 \n",
    "print('a' + 'a')  #10\n",
    "print(a + \"a\") #11\n",
    "print(\"a\" + 'a') #12\n",
    "print(\"a\" + a)#13\n",
    "\n",
    "\n",
    "\n"
   ]
  },
  {
   "cell_type": "code",
   "execution_count": 12,
   "metadata": {},
   "outputs": [
    {
     "name": "stdout",
     "output_type": "stream",
     "text": [
      "1020\n"
     ]
    }
   ],
   "source": [
    "print(\"10\" + \"20\")"
   ]
  },
  {
   "cell_type": "code",
   "execution_count": null,
   "metadata": {},
   "outputs": [],
   "source": [
    "+ ==> Many forms \n",
    "\n",
    "10 + 10 ==> 20\n",
    "\"ab\" + \"vf\" ==> \"abvf\"\n",
    "[4,5] + [6,7] ==> [4,5,6,7]"
   ]
  },
  {
   "cell_type": "code",
   "execution_count": 41,
   "metadata": {
    "scrolled": true
   },
   "outputs": [
    {
     "name": "stdout",
     "output_type": "stream",
     "text": [
      "10\n",
      "hello world\n",
      "a\n",
      "a\n",
      "20\n",
      "b\n"
     ]
    },
    {
     "ename": "NameError",
     "evalue": "name 'z' is not defined",
     "output_type": "error",
     "traceback": [
      "\u001b[1;31m---------------------------------------------------------------------------\u001b[0m",
      "\u001b[1;31mNameError\u001b[0m                                 Traceback (most recent call last)",
      "\u001b[1;32m~\\AppData\\Local\\Temp\\ipykernel_19624\\908973699.py\u001b[0m in \u001b[0;36m<module>\u001b[1;34m\u001b[0m\n\u001b[0;32m      7\u001b[0m \u001b[0mprint\u001b[0m\u001b[1;33m(\u001b[0m\u001b[0ma\u001b[0m \u001b[1;33m+\u001b[0m \u001b[0ma\u001b[0m\u001b[1;33m)\u001b[0m \u001b[1;31m#5\u001b[0m\u001b[1;33m\u001b[0m\u001b[1;33m\u001b[0m\u001b[0m\n\u001b[0;32m      8\u001b[0m \u001b[0mprint\u001b[0m\u001b[1;33m(\u001b[0m\u001b[1;34m\"b\"\u001b[0m\u001b[1;33m)\u001b[0m \u001b[1;31m#6\u001b[0m\u001b[1;33m\u001b[0m\u001b[1;33m\u001b[0m\u001b[0m\n\u001b[1;32m----> 9\u001b[1;33m \u001b[0mprint\u001b[0m\u001b[1;33m(\u001b[0m\u001b[0mz\u001b[0m\u001b[1;33m)\u001b[0m \u001b[1;31m#7\u001b[0m\u001b[1;33m\u001b[0m\u001b[1;33m\u001b[0m\u001b[0m\n\u001b[0m\u001b[0;32m     10\u001b[0m \u001b[1;33m\u001b[0m\u001b[0m\n\u001b[0;32m     11\u001b[0m \u001b[0ma\u001b[0m \u001b[1;33m=\u001b[0m \u001b[1;36m10\u001b[0m\u001b[1;33m\u001b[0m\u001b[1;33m\u001b[0m\u001b[0m\n",
      "\u001b[1;31mNameError\u001b[0m: name 'z' is not defined"
     ]
    }
   ],
   "source": [
    "a = 10\n",
    "\n",
    "print(a) #1\n",
    "print(\"hello world\") #2\n",
    "print(\"a\") #3\n",
    "print('a') #4\n",
    "print(a + a) #5\n",
    "print(\"b\") #6\n",
    "print(z) #7\n",
    "\n",
    "a = 10\n",
    "\n",
    "print(a + a) #8\n",
    "print(\"a\" + \"a\") #9 \n",
    "print('a' + 'a')  #10\n",
    "print(a + \"a\") #11\n",
    "print(\"a\" + 'a') #12\n",
    "print(\"a\" + a)#13\n",
    "\n",
    "\n",
    "\n",
    "\n",
    "\n",
    "\n",
    "\n",
    "\n"
   ]
  },
  {
   "cell_type": "code",
   "execution_count": 12,
   "metadata": {},
   "outputs": [
    {
     "name": "stdout",
     "output_type": "stream",
     "text": [
      "20\n",
      "1010\n"
     ]
    },
    {
     "ename": "TypeError",
     "evalue": "unsupported operand type(s) for +: 'int' and 'str'",
     "output_type": "error",
     "traceback": [
      "\u001b[1;31m---------------------------------------------------------------------------\u001b[0m",
      "\u001b[1;31mTypeError\u001b[0m                                 Traceback (most recent call last)",
      "\u001b[1;32m~\\AppData\\Local\\Temp\\ipykernel_12732\\3379251840.py\u001b[0m in \u001b[0;36m<module>\u001b[1;34m\u001b[0m\n\u001b[0;32m      3\u001b[0m \u001b[0mprint\u001b[0m\u001b[1;33m(\u001b[0m\u001b[1;34m\"10\"\u001b[0m \u001b[1;33m+\u001b[0m \u001b[1;34m\"10\"\u001b[0m\u001b[1;33m)\u001b[0m\u001b[1;33m\u001b[0m\u001b[1;33m\u001b[0m\u001b[0m\n\u001b[0;32m      4\u001b[0m \u001b[1;33m\u001b[0m\u001b[0m\n\u001b[1;32m----> 5\u001b[1;33m \u001b[0mprint\u001b[0m\u001b[1;33m(\u001b[0m\u001b[1;36m10\u001b[0m \u001b[1;33m+\u001b[0m \u001b[1;34m\"10\"\u001b[0m\u001b[1;33m)\u001b[0m\u001b[1;33m\u001b[0m\u001b[1;33m\u001b[0m\u001b[0m\n\u001b[0m",
      "\u001b[1;31mTypeError\u001b[0m: unsupported operand type(s) for +: 'int' and 'str'"
     ]
    }
   ],
   "source": [
    "print(10 + 10)\n",
    "\n",
    "print(\"10\" + \"10\")\n",
    "\n",
    "print(10 + \"10\")\n",
    "\n",
    "print(\"10\" + 10)"
   ]
  },
  {
   "cell_type": "code",
   "execution_count": 13,
   "metadata": {},
   "outputs": [
    {
     "name": "stdout",
     "output_type": "stream",
     "text": [
      "10\n",
      "hello world\n",
      "a\n",
      "a\n",
      "20\n",
      "b\n",
      "20\n",
      "aa\n",
      "aa\n"
     ]
    },
    {
     "ename": "TypeError",
     "evalue": "unsupported operand type(s) for +: 'int' and 'str'",
     "output_type": "error",
     "traceback": [
      "\u001b[1;31m---------------------------------------------------------------------------\u001b[0m",
      "\u001b[1;31mTypeError\u001b[0m                                 Traceback (most recent call last)",
      "\u001b[1;32m~\\AppData\\Local\\Temp\\ipykernel_12732\\3899669752.py\u001b[0m in \u001b[0;36m<module>\u001b[1;34m\u001b[0m\n\u001b[0;32m     16\u001b[0m \u001b[0mprint\u001b[0m\u001b[1;33m(\u001b[0m\u001b[1;34m\"a\"\u001b[0m \u001b[1;33m+\u001b[0m \u001b[1;34m\"a\"\u001b[0m\u001b[1;33m)\u001b[0m \u001b[1;31m#aa\u001b[0m\u001b[1;33m\u001b[0m\u001b[1;33m\u001b[0m\u001b[0m\n\u001b[0;32m     17\u001b[0m \u001b[0mprint\u001b[0m\u001b[1;33m(\u001b[0m\u001b[1;34m'a'\u001b[0m \u001b[1;33m+\u001b[0m \u001b[1;34m'a'\u001b[0m\u001b[1;33m)\u001b[0m \u001b[1;31m#aa #concatenation\u001b[0m\u001b[1;33m\u001b[0m\u001b[1;33m\u001b[0m\u001b[0m\n\u001b[1;32m---> 18\u001b[1;33m \u001b[0mprint\u001b[0m\u001b[1;33m(\u001b[0m\u001b[0ma\u001b[0m \u001b[1;33m+\u001b[0m \u001b[1;34m\"a\"\u001b[0m\u001b[1;33m)\u001b[0m \u001b[1;31m#typeerror\u001b[0m\u001b[1;33m\u001b[0m\u001b[1;33m\u001b[0m\u001b[0m\n\u001b[0m\u001b[0;32m     19\u001b[0m \u001b[0mprint\u001b[0m\u001b[1;33m(\u001b[0m\u001b[1;34m\"a\"\u001b[0m \u001b[1;33m+\u001b[0m \u001b[1;34m'a'\u001b[0m\u001b[1;33m)\u001b[0m \u001b[1;31m#aa\u001b[0m\u001b[1;33m\u001b[0m\u001b[1;33m\u001b[0m\u001b[0m\n\u001b[0;32m     20\u001b[0m \u001b[0mprint\u001b[0m\u001b[1;33m(\u001b[0m\u001b[1;34m\"a\"\u001b[0m \u001b[1;33m+\u001b[0m \u001b[0ma\u001b[0m\u001b[1;33m)\u001b[0m \u001b[1;31m#typeerror\u001b[0m\u001b[1;33m\u001b[0m\u001b[1;33m\u001b[0m\u001b[0m\n",
      "\u001b[1;31mTypeError\u001b[0m: unsupported operand type(s) for +: 'int' and 'str'"
     ]
    }
   ],
   "source": [
    "a = 10\n",
    "\n",
    "print(a) #inbuilt function a ===> variable\n",
    "\n",
    "print(\"hello world\")\n",
    "print(\"a\")  #==? \"a\"  ==> string\n",
    "\n",
    "print('a')\n",
    "print(a + a) #Addition\n",
    "print(\"b\")\n",
    "#print(z)\n",
    "\n",
    "a = 10\n",
    "\n",
    "print(a + a) #20\n",
    "print(\"a\" + \"a\") #aa\n",
    "print('a' + 'a') #aa #concatenation\n",
    "print(a + \"a\") #typeerror\n",
    "print(\"a\" + 'a') #aa\n",
    "print(\"a\" + a) #typeerror"
   ]
  },
  {
   "cell_type": "code",
   "execution_count": 13,
   "metadata": {},
   "outputs": [
    {
     "name": "stdout",
     "output_type": "stream",
     "text": [
      "20\n",
      "aa\n",
      "aa\n",
      "10 a\n",
      "aa\n"
     ]
    },
    {
     "ename": "TypeError",
     "evalue": "can only concatenate str (not \"int\") to str",
     "output_type": "error",
     "traceback": [
      "\u001b[1;31m---------------------------------------------------------------------------\u001b[0m",
      "\u001b[1;31mTypeError\u001b[0m                                 Traceback (most recent call last)",
      "\u001b[1;32m~\\AppData\\Local\\Temp\\ipykernel_29920\\3827795058.py\u001b[0m in \u001b[0;36m<module>\u001b[1;34m\u001b[0m\n\u001b[0;32m      6\u001b[0m \u001b[0mprint\u001b[0m\u001b[1;33m(\u001b[0m\u001b[0ma\u001b[0m\u001b[1;33m,\u001b[0m\u001b[1;34m\"a\"\u001b[0m\u001b[1;33m)\u001b[0m \u001b[1;31m#typeerror\u001b[0m\u001b[1;33m\u001b[0m\u001b[1;33m\u001b[0m\u001b[0m\n\u001b[0;32m      7\u001b[0m \u001b[0mprint\u001b[0m\u001b[1;33m(\u001b[0m\u001b[1;34m\"a\"\u001b[0m \u001b[1;33m+\u001b[0m \u001b[1;34m'a'\u001b[0m\u001b[1;33m)\u001b[0m \u001b[1;31m#aa\u001b[0m\u001b[1;33m\u001b[0m\u001b[1;33m\u001b[0m\u001b[0m\n\u001b[1;32m----> 8\u001b[1;33m \u001b[0mprint\u001b[0m\u001b[1;33m(\u001b[0m\u001b[1;34m\"a\"\u001b[0m \u001b[1;33m+\u001b[0m \u001b[0ma\u001b[0m\u001b[1;33m)\u001b[0m \u001b[1;31m#typeerror\u001b[0m\u001b[1;33m\u001b[0m\u001b[1;33m\u001b[0m\u001b[0m\n\u001b[0m",
      "\u001b[1;31mTypeError\u001b[0m: can only concatenate str (not \"int\") to str"
     ]
    }
   ],
   "source": [
    "a = 10\n",
    "\n",
    "print(a + a) #20\n",
    "print(\"a\" + \"a\") #aa\n",
    "print('a' + 'a') #aa\n",
    "print(a + \"a\") #typeerror\n",
    "print(\"a\" + 'a') #aa\n",
    "print(\"a\" + a) #typeerror"
   ]
  },
  {
   "cell_type": "code",
   "execution_count": 1,
   "metadata": {},
   "outputs": [
    {
     "name": "stdout",
     "output_type": "stream",
     "text": [
      "<class 'int'>\n",
      "<class 'int'>\n",
      "30\n",
      "<class 'str'>\n",
      "<class 'str'>\n",
      "1020\n"
     ]
    }
   ],
   "source": [
    "a = 10\n",
    "b = 20\n",
    "\n",
    "print(type(a))\n",
    "print(type(b))\n",
    "\n",
    "print(a+b)\n",
    "\n",
    "a = \"10\"\n",
    "b = \"20\"\n",
    "\n",
    "print(type(a))\n",
    "print(type(b))\n",
    "\n",
    "print(a+b)"
   ]
  },
  {
   "cell_type": "code",
   "execution_count": 14,
   "metadata": {},
   "outputs": [
    {
     "ename": "SyntaxError",
     "evalue": "invalid syntax (2698111107.py, line 1)",
     "output_type": "error",
     "traceback": [
      "\u001b[1;36m  File \u001b[1;32m\"C:\\Users\\kanna\\AppData\\Local\\Temp\\ipykernel_12732\\2698111107.py\"\u001b[1;36m, line \u001b[1;32m1\u001b[0m\n\u001b[1;33m    a = 'I'm fine'\u001b[0m\n\u001b[1;37m           ^\u001b[0m\n\u001b[1;31mSyntaxError\u001b[0m\u001b[1;31m:\u001b[0m invalid syntax\n"
     ]
    }
   ],
   "source": [
    "a = 'I'm fine'"
   ]
  },
  {
   "cell_type": "code",
   "execution_count": 14,
   "metadata": {},
   "outputs": [
    {
     "name": "stdout",
     "output_type": "stream",
     "text": [
      "I'm fine\n",
      "I'm fine\n",
      "I'm fine\n"
     ]
    }
   ],
   "source": [
    "b = \"I'm fine\"\n",
    "\n",
    "print(b)\n",
    "\n",
    "b = \"I'm fine\"\n",
    "\n",
    "print(b)\n",
    "\n",
    "b = 'I\\'m fine'\n",
    "\n",
    "#\\ ==> escape sequence \n",
    "\n",
    "print(b)"
   ]
  },
  {
   "cell_type": "code",
   "execution_count": null,
   "metadata": {},
   "outputs": [],
   "source": [
    "a = true\n",
    "\n",
    "print(a)"
   ]
  },
  {
   "cell_type": "code",
   "execution_count": null,
   "metadata": {},
   "outputs": [],
   "source": []
  },
  {
   "cell_type": "code",
   "execution_count": 18,
   "metadata": {},
   "outputs": [
    {
     "name": "stdout",
     "output_type": "stream",
     "text": [
      "I am fine\n",
      "I'm fine\n",
      "\" and ' are for same purpose which is to print strings\n",
      "  hi welcome to triple \n",
      "gjlooln kjg kjjn g\n",
      "lnjnfljnf\n",
      "gbnbnkijn g\n",
      "double quote  \n",
      " hi welcome to triple\n",
      "jnfjkn kjnf \n",
      "fjkn jkf\n",
      "single quote\n"
     ]
    }
   ],
   "source": [
    "#difference between ' '  and \" \"\n",
    "\n",
    "a = \"I am fine\"\n",
    "\n",
    "print(a)\n",
    "\n",
    "b = \"I'm fine\"\n",
    "\n",
    "print(b)\n",
    "\n",
    "print(\"\\\" and \\' are for same purpose which is to print strings\")\n",
    "\n",
    "print(\"\"\"  hi welcome to triple \n",
    "gjlooln kjg kjjn g\n",
    "lnjnfljnf\n",
    "gbnbnkijn g\n",
    "double quote  \"\"\")\n",
    "\n",
    "print(''' hi welcome to triple\n",
    "jnfjkn kjnf \n",
    "fjkn jkf\n",
    "single quote''')"
   ]
  },
  {
   "cell_type": "code",
   "execution_count": 18,
   "metadata": {},
   "outputs": [
    {
     "name": "stdout",
     "output_type": "stream",
     "text": [
      "hi\n",
      "2\n"
     ]
    }
   ],
   "source": [
    "\"\"\"\n",
    "hello welcome to class\n",
    "hello\n",
    "\"\"\"\n",
    "print(\"hi\")\n",
    "\"\"\"\n",
    "This is multi line comment or doc strings\n",
    "\"\"\"\n",
    "print(2)\n",
    "\n",
    "#hello please comment me #single line comment"
   ]
  },
  {
   "cell_type": "code",
   "execution_count": 3,
   "metadata": {},
   "outputs": [
    {
     "name": "stdout",
     "output_type": "stream",
     "text": [
      "\" and ' are for same purpose which is to print strings\n"
     ]
    }
   ],
   "source": [
    "print(\"\\\" and \\' are for same purpose which is to print strings\")\n",
    "\n",
    "#escape char escape sequence\n",
    "\n",
    "#print(\"\\\" and \\' are for same purpose which is to print strings\")"
   ]
  },
  {
   "cell_type": "code",
   "execution_count": 5,
   "metadata": {},
   "outputs": [
    {
     "name": "stdout",
     "output_type": "stream",
     "text": [
      "30\n"
     ]
    }
   ],
   "source": [
    "#comments   Single line comment  multi line comment  doc string\n",
    "\n",
    "a = 10\n",
    "\n",
    "b = 20\n",
    "\n",
    "c = a + b\n",
    "\n",
    "#print(\"hello\")\n",
    "\n",
    "\"\"\"\n",
    "print(\"hello\")   #single line comment\n",
    "print(\"python\")  #Multi line comment #doc string\n",
    "\"\"\"\n",
    "print(c)"
   ]
  },
  {
   "cell_type": "code",
   "execution_count": 23,
   "metadata": {},
   "outputs": [
    {
     "name": "stdout",
     "output_type": "stream",
     "text": [
      "10\n",
      "<class 'int'>\n",
      "14.14\n",
      "<class 'float'>\n"
     ]
    }
   ],
   "source": [
    "#Data type  #Dynamic typing \n",
    "\n",
    "a = 10\n",
    "\n",
    "print(a)\n",
    "\n",
    "print(type(a))\n",
    "\n",
    "a = 14.14\n",
    "\n",
    "print(a)\n",
    "\n",
    "print(type(a))"
   ]
  },
  {
   "cell_type": "code",
   "execution_count": null,
   "metadata": {},
   "outputs": [],
   "source": [
    "int a = 10\n",
    "\n",
    "float val = 2.3"
   ]
  },
  {
   "cell_type": "code",
   "execution_count": null,
   "metadata": {},
   "outputs": [],
   "source": []
  },
  {
   "cell_type": "code",
   "execution_count": 15,
   "metadata": {},
   "outputs": [
    {
     "name": "stdout",
     "output_type": "stream",
     "text": [
      "value of variable a:  10\n",
      "data type of variable a:  <class 'int'>\n",
      "value of variable b:  90.99\n",
      "data type of variable b:  <class 'float'>\n",
      "value of variable c:  True\n",
      "data type of variable a:  <class 'bool'>\n",
      "value of variable d:  False\n",
      "data type of variable a:  <class 'bool'>\n"
     ]
    }
   ],
   "source": [
    "a = 10\n",
    "print(\"value of variable a: \",a)\n",
    "print(\"data type of variable a: \",type(a)) #type inbuilt function for identifying datatype or data structure of a value\n",
    "\n",
    "b = 90.99\n",
    "print(\"value of variable b: \", b)\n",
    "print(\"data type of variable b: \",type(b))\n",
    "\n",
    "c = True\n",
    "print(\"value of variable c: \", c)\n",
    "print(\"data type of variable a: \",type(c))\n",
    "\n",
    "d = False\n",
    "print(\"value of variable d: \", d)\n",
    "print(\"data type of variable a: \",type(d))\n",
    "\n"
   ]
  },
  {
   "cell_type": "code",
   "execution_count": 31,
   "metadata": {},
   "outputs": [
    {
     "name": "stdout",
     "output_type": "stream",
     "text": [
      "10 20 30\n",
      "10*20*30\n",
      "15\t20\n"
     ]
    }
   ],
   "source": [
    "print(10,20,30)\n",
    "print(10,20,30, sep=\"*\")\n",
    "print(15,end=\"\\t\")\n",
    "print(20)\n",
    "\n",
    "#print(\"hello\",\"world\")\n",
    "\n",
    "#print in detail\n",
    "#what's end arguement in print function\n",
    "#what's sep arguement in print function"
   ]
  },
  {
   "cell_type": "code",
   "execution_count": 18,
   "metadata": {},
   "outputs": [
    {
     "name": "stdout",
     "output_type": "stream",
     "text": [
      "10\t20\t30\n",
      "10*20*30\n",
      "15\n",
      "20\n"
     ]
    }
   ],
   "source": [
    "print(10,20,30, sep=\"\\t\")\n",
    "print(10,20,30, sep=\"*\")\n",
    "print(15)\n",
    "print(20)\n",
    "\n",
    "\n",
    "#end sep"
   ]
  },
  {
   "cell_type": "code",
   "execution_count": 16,
   "metadata": {},
   "outputs": [
    {
     "ename": "SyntaxError",
     "evalue": "invalid syntax (503715009.py, line 1)",
     "output_type": "error",
     "traceback": [
      "\u001b[1;36m  File \u001b[1;32m\"C:\\Users\\kanna\\AppData\\Local\\Temp\\ipykernel_19624\\503715009.py\"\u001b[1;36m, line \u001b[1;32m1\u001b[0m\n\u001b[1;33m    10    20    30\u001b[0m\n\u001b[1;37m          ^\u001b[0m\n\u001b[1;31mSyntaxError\u001b[0m\u001b[1;31m:\u001b[0m invalid syntax\n"
     ]
    }
   ],
   "source": [
    "10    20    30\n",
    "10 20 30*15\n",
    "20"
   ]
  },
  {
   "cell_type": "code",
   "execution_count": 19,
   "metadata": {},
   "outputs": [
    {
     "name": "stdout",
     "output_type": "stream",
     "text": [
      "value of variable e:  (5+4j)\n",
      "data type of variable e:  <class 'complex'>\n",
      "value of variable f:  10\n",
      "data type of variable f:  <class 'str'>\n",
      "value of variable g:  python\n",
      "data type of variable g:  <class 'str'>\n"
     ]
    }
   ],
   "source": [
    "\n",
    "e = 5+4j\n",
    "print(\"value of variable e: \", e)\n",
    "print(\"data type of variable e: \",type(e))\n",
    "\n",
    "f = \"10\"\n",
    "print(\"value of variable f: \", f)\n",
    "print(\"data type of variable f: \",type(f))\n",
    "\n",
    "g = \"python\"\n",
    "print(\"value of variable g: \", g)\n",
    "print(\"data type of variable g: \",type(g))"
   ]
  },
  {
   "cell_type": "code",
   "execution_count": 3,
   "metadata": {},
   "outputs": [
    {
     "name": "stdout",
     "output_type": "stream",
     "text": [
      "gggg\n",
      "gggg\n",
      "i'm fine\n"
     ]
    }
   ],
   "source": [
    "print('gggg')\n",
    "\n",
    "print(\"gggg\")\n",
    "\n",
    "print(\"i'm fine\")\n",
    "\n",
    "print('i\\'m fine')"
   ]
  },
  {
   "cell_type": "code",
   "execution_count": 2,
   "metadata": {},
   "outputs": [
    {
     "name": "stdout",
     "output_type": "stream",
     "text": [
      "hi welcome to python class\n",
      "This is related to python programming basics\n",
      "and some basic programs\n",
      "Thanks \n"
     ]
    }
   ],
   "source": [
    "#triple single/double quotes\n",
    "\n",
    "h = \"\"\"hi welcome to python class\n",
    "This is related to python programming basics\n",
    "and some basic programs\n",
    "Thanks \"\"\"\n",
    "\n",
    "h = '''hi welcome to python class\n",
    "This is related to python programming basics\n",
    "and some basic programs\n",
    "Thanks '''\n",
    "\n",
    "print(h)"
   ]
  },
  {
   "cell_type": "code",
   "execution_count": 4,
   "metadata": {},
   "outputs": [
    {
     "name": "stdout",
     "output_type": "stream",
     "text": [
      "I'm fine\n"
     ]
    }
   ],
   "source": [
    "#single quote and double quote\n",
    "\n",
    "\n",
    "#\" \" and ' ' ===> both are same\n",
    "\n",
    "a = \"I'm fine\"\n",
    "\n",
    "\n",
    "\n",
    "#escape sequence\n",
    "\n",
    "b= 'I\\'m fine'\n",
    "\n",
    "print(b)\n",
    "\n",
    "\n",
    "b = \" '  and \"  are called as quotes in python \"\n",
    "\n"
   ]
  },
  {
   "cell_type": "code",
   "execution_count": 5,
   "metadata": {},
   "outputs": [
    {
     "name": "stdout",
     "output_type": "stream",
     "text": [
      "17\n",
      "-5\n",
      "78\n",
      "5.5\n"
     ]
    }
   ],
   "source": [
    "#operator\n",
    "\n",
    "\n",
    "#ternary/Arithmetic/comparison/logical/assignment/membership\n",
    "\n",
    "#used to perfom some operation\n",
    "\n",
    "#Arithmetic operator\n",
    "\n",
    "# + - * / ** % //\n",
    "\n",
    "#Basic ops\n",
    "\n",
    "print(7 + 10) #17\n",
    "\n",
    "print(17 - 22) #-5\n",
    "\n",
    "print(13 * 6) #78\n",
    "\n",
    "print(22 / 4) #5.4\n",
    "\n",
    "\n"
   ]
  },
  {
   "cell_type": "code",
   "execution_count": 21,
   "metadata": {},
   "outputs": [
    {
     "name": "stdout",
     "output_type": "stream",
     "text": [
      "3\n",
      "-4\n"
     ]
    }
   ],
   "source": [
    "print(10 // 3)\n",
    "print(-10 // 3)"
   ]
  },
  {
   "cell_type": "code",
   "execution_count": null,
   "metadata": {},
   "outputs": [],
   "source": [
    "#** power operator\n",
    "\n",
    "print(2 ** 5) #2 * 2 * 2 * 2* 2 #32\n",
    "print(-3 ** 3) #-27\n",
    "print(10 ** 4) #10000\n",
    "print(8 ** 3) #512\n",
    "\n",
    "\n",
    "#% Modulus operator\n",
    "\n",
    "print(13 % 3) #1\n",
    "print(20 % 7) #6\n",
    "print(15 % 4) #3\n",
    "print(20 % 9) #2\n",
    "\n",
    "\n",
    "#12 % 6 ===> 0\n",
    "#13 % 6 ===> 1\n",
    "#14 % 6 ===> 2\n",
    "\n",
    "\n",
    "\n",
    "#//  floor div\n",
    "\n",
    "#Do normal divison\n",
    "#plot your value in scale\n",
    "#identify small value\n",
    "\n",
    "print(5 // 2) ===>2\n",
    "\n",
    "#5/2 ===> 2.5\n",
    "#-5 -4 -3 -2 -1 0 1 2 3 4 5\n",
    "#2 and 3 ===> 2 is the minimum\n",
    "#Ans: 2\n",
    "\n",
    "print(-5 // 2) ===> -3\n",
    "\n",
    "#-5/2 ==> -2.5\n",
    "#-5 -4 -3 -2 -1 0 1 2 3 4 5\n",
    "#-3 and -2 ===> -3 is minimum\n",
    "#-5 // 2 ===> -3\n",
    "\n",
    "print(7 // 2) #3\n",
    "print(5 // 4) # 1\n",
    "print(-5 // 2) # -3\n",
    "print(-20 // 2) #-10\n",
    "print(-10 // 4) #-3\n",
    "print(20 // 8) #2\n",
    "\n",
    "\n",
    "# 12 students \n",
    "\n",
    "# 63 note books\n",
    "\n",
    "print(63 // 12)"
   ]
  },
  {
   "cell_type": "code",
   "execution_count": 22,
   "metadata": {},
   "outputs": [
    {
     "name": "stdout",
     "output_type": "stream",
     "text": [
      "2\n",
      "-2\n",
      "-1\n"
     ]
    }
   ],
   "source": [
    "print(10 // 4) #2\n",
    "\n",
    "\n",
    "print(-10 // 9) #-2 \n",
    "\n",
    "\n",
    "print(-2 // 5) #-1\n",
    "\n"
   ]
  },
  {
   "cell_type": "code",
   "execution_count": 36,
   "metadata": {},
   "outputs": [
    {
     "name": "stdout",
     "output_type": "stream",
     "text": [
      "3\n",
      "2\n",
      "21\n",
      "29\n"
     ]
    }
   ],
   "source": [
    "import math\n",
    "\n",
    "print(math.ceil(12/5)) #ceil div\n",
    "\n",
    "print(12 // 5) #floor div\n",
    "\n",
    "print(math.ceil(201/10)) #ceil div\n",
    "\n",
    "print(299 // 10) #floor div"
   ]
  },
  {
   "cell_type": "code",
   "execution_count": 6,
   "metadata": {},
   "outputs": [
    {
     "name": "stdout",
     "output_type": "stream",
     "text": [
      "5\n"
     ]
    }
   ],
   "source": [
    "print(63 // 12)"
   ]
  },
  {
   "cell_type": "code",
   "execution_count": 8,
   "metadata": {},
   "outputs": [
    {
     "name": "stdout",
     "output_type": "stream",
     "text": [
      "<class 'complex'>\n",
      "5.0\n",
      "4.0\n"
     ]
    }
   ],
   "source": [
    "a = 5 + 4j\n",
    "\n",
    "print(type(a))\n",
    "print(a.real)\n",
    "print(a.imag)"
   ]
  },
  {
   "cell_type": "code",
   "execution_count": null,
   "metadata": {},
   "outputs": [],
   "source": [
    "#print function"
   ]
  },
  {
   "cell_type": "code",
   "execution_count": null,
   "metadata": {},
   "outputs": [],
   "source": [
    "#floor divison\n",
    "#round\n",
    "#ceil \n",
    "\n",
    "\n",
    "5 floor  2 ==> 2\n",
    "5 ceil   2 ==> 3\n",
    "5 round 2  ==>"
   ]
  },
  {
   "cell_type": "code",
   "execution_count": 1,
   "metadata": {},
   "outputs": [
    {
     "name": "stdout",
     "output_type": "stream",
     "text": [
      "1.4\n",
      "-1.4\n"
     ]
    }
   ],
   "source": [
    "print(7 / 5)\n",
    "print(-7 / 5)"
   ]
  },
  {
   "cell_type": "code",
   "execution_count": 3,
   "metadata": {},
   "outputs": [
    {
     "name": "stdout",
     "output_type": "stream",
     "text": [
      "True\n",
      "False\n",
      "False\n",
      "True\n"
     ]
    }
   ],
   "source": [
    "a = 10\n",
    "b = 3 #=> assignment operator\n",
    "\n",
    "#Comparison operator ===> always give boolean output\n",
    "\n",
    "#< > <= >= != ==\n",
    "#boolean datatype output\n",
    "\n",
    "print(a > b)\n",
    "print(a < b)\n",
    "print(a == b) #=> Comparison operator\n",
    "print(a != b)"
   ]
  },
  {
   "cell_type": "code",
   "execution_count": 23,
   "metadata": {},
   "outputs": [
    {
     "name": "stdout",
     "output_type": "stream",
     "text": [
      "True\n",
      "False\n",
      "True\n",
      "True\n",
      "True\n"
     ]
    }
   ],
   "source": [
    "a = 10\n",
    "b = 20 \n",
    "\n",
    "print(a > 5 or b < 15)  # True\n",
    "\n",
    "\n",
    "print(a > 5 and b < 15) #False\n",
    "\n",
    "print(a > 5 or b == 20) #True\n",
    "\n",
    "print(a > 5 or b > 15) #True\n",
    "\n",
    "print(a > 5 and b > 15) #True\n"
   ]
  },
  {
   "cell_type": "code",
   "execution_count": null,
   "metadata": {},
   "outputs": [],
   "source": [
    "OR\n",
    "\n",
    "\n",
    "if all of them are False ===> False otherwise True\n",
    "if anyone of them is True ===> True otherwise False\n",
    "\n",
    "\n",
    "AND\n",
    "\n",
    "All of them ==> True ===> True Otherwise False\n"
   ]
  },
  {
   "cell_type": "code",
   "execution_count": 8,
   "metadata": {},
   "outputs": [
    {
     "name": "stdout",
     "output_type": "stream",
     "text": [
      "True\n",
      "False\n",
      "False\n",
      "True\n",
      "True\n",
      "True\n",
      "False\n",
      "True\n",
      "True\n"
     ]
    }
   ],
   "source": [
    "#comparison/logical/assignment/membership\n",
    "\n",
    "a = 10\n",
    "b = 3\n",
    "\n",
    "#< > <= >= != ==\n",
    "#boolean datatype output\n",
    "\n",
    "print(a > b)\n",
    "print(a < b)\n",
    "print(a == b)\n",
    "print(a != b)\n",
    "\n",
    "\n",
    "#= ===> assignment operator\n",
    "\n",
    "\n",
    "#and or not ===> logical operators\n",
    "\n",
    "#For multiple compares\n",
    "\n",
    "print(a > b and a != b)\n",
    "#AND  if all the condition true then it returns true otherwise false\n",
    "\n",
    "#OR if all the condition false then it returns false otherwise true\n",
    "\n",
    "\n",
    "\n",
    "\n"
   ]
  },
  {
   "cell_type": "code",
   "execution_count": 24,
   "metadata": {},
   "outputs": [
    {
     "name": "stdout",
     "output_type": "stream",
     "text": [
      "True\n",
      "False\n",
      "True\n",
      "True\n"
     ]
    }
   ],
   "source": [
    "#membership in ==> for loop, checking substring\n",
    "\n",
    "print(\"py\" in \"python\")\n",
    "print(\"z\" in \"python\")\n",
    "\n",
    "print(10 in [12,13,14,10,12,8,7])\n",
    "\n",
    "print(\"z\" not in \"python\")\n",
    "\n",
    "\n",
    "\n"
   ]
  },
  {
   "cell_type": "code",
   "execution_count": 1,
   "metadata": {},
   "outputs": [
    {
     "name": "stdout",
     "output_type": "stream",
     "text": [
      "True\n",
      "False\n",
      "True\n",
      "True\n",
      "False\n"
     ]
    }
   ],
   "source": [
    "\n",
    "print(\"py\" in \"python\")\n",
    "print(\"z\" in \"python\")\n",
    "\n",
    "print(10 in [12,13,14,10,12,8,7])\n",
    "\n",
    "print(\"z\" not in \"python\")\n",
    "\n",
    "print(\"10\" in [12,13,14,10,12,8,7])\n"
   ]
  },
  {
   "cell_type": "code",
   "execution_count": 9,
   "metadata": {},
   "outputs": [
    {
     "name": "stdout",
     "output_type": "stream",
     "text": [
      "4\n",
      "5\n",
      "6\n",
      "7\n",
      "3\n",
      "2\n"
     ]
    }
   ],
   "source": [
    "Li = [4,5,6,7,3,2]\n",
    "\n",
    "for i in Li:\n",
    "    print(i)"
   ]
  },
  {
   "cell_type": "code",
   "execution_count": 6,
   "metadata": {},
   "outputs": [
    {
     "name": "stdout",
     "output_type": "stream",
     "text": [
      "The value of a is 5\n",
      "The value of b is 10\n"
     ]
    }
   ],
   "source": [
    "#Ternary operator\n",
    "\n",
    "a = 5\n",
    "\n",
    "b = 10 if a < 10 else 20\n",
    "\n",
    "print(\"The value of a is\", a)\n",
    "print(\"The value of b is\", b)"
   ]
  },
  {
   "cell_type": "code",
   "execution_count": 7,
   "metadata": {},
   "outputs": [
    {
     "name": "stdout",
     "output_type": "stream",
     "text": [
      "The value of a is 12\n",
      "The value of b is 20\n"
     ]
    }
   ],
   "source": [
    "a =12\n",
    "\n",
    "b = 10 if a < 10 else 20\n",
    "\n",
    "print(\"The value of a is\", a)\n",
    "print(\"The value of b is\", b)"
   ]
  },
  {
   "cell_type": "code",
   "execution_count": 38,
   "metadata": {},
   "outputs": [
    {
     "name": "stdout",
     "output_type": "stream",
     "text": [
      "[1, 2, 3, 4, 5, 1, 1, 2, 2, 3]\n",
      "<class 'list'>\n",
      "{1, 2, 3, 4, 5}\n",
      "<class 'set'>\n"
     ]
    }
   ],
   "source": [
    "a = [1,2,3,4,5,1,1,2,2,3]\n",
    "\n",
    "\n",
    "print(a)\n",
    "print(type(a))\n",
    "\n",
    "a = {1,2,3,4,5,1,1,2,2,3}\n",
    "print(a)\n",
    "print(type(a))"
   ]
  },
  {
   "cell_type": "code",
   "execution_count": 37,
   "metadata": {},
   "outputs": [],
   "source": [
    "#Data structure or sequences:\n",
    "\n",
    "#List (square bracket)\n",
    "\n",
    "#Tuple Circular bracket\n",
    "\n",
    "#set Flower bracket\n",
    "\n",
    "#Dictionary Flower bracket with :\n",
    "\n",
    "#collection/set of elements\n",
    "\n",
    "a = \"name\"\n",
    "b = \"address\"\n",
    "c = \"train name\"\n",
    "\n",
    "[]\n",
    "()\n",
    "{}\n",
    "{:}\n",
    "\n",
    "value = [\"name\", \"address\", \"train name\", \"train number\"]\n",
    "\n",
    "#Function:\n",
    "\n",
    "#Function def ==> redundant code\n",
    "#Function call ? \n",
    "\n",
    "#set \n",
    "\n",
    "#Inbuilt functions ==> \n",
    "\n",
    "#defined in installed package\n",
    "\n",
    "#User def function  ==> function def and function call \n",
    "\n",
    "#recursive function\n",
    "\n"
   ]
  },
  {
   "cell_type": "code",
   "execution_count": 2,
   "metadata": {},
   "outputs": [
    {
     "name": "stdout",
     "output_type": "stream",
     "text": [
      "<class 'tuple'>\n",
      "<class 'int'>\n",
      "<class 'tuple'>\n"
     ]
    }
   ],
   "source": [
    "a = 10,20,30\n",
    "\n",
    "print(type(a))\n",
    "\n",
    "b = (10)\n",
    "\n",
    "print(type(b))\n",
    "\n",
    "b = (10,)\n",
    "\n",
    "print(type(b))"
   ]
  },
  {
   "cell_type": "code",
   "execution_count": 9,
   "metadata": {},
   "outputs": [
    {
     "name": "stdout",
     "output_type": "stream",
     "text": [
      "30\n",
      "33\n",
      "61\n"
     ]
    }
   ],
   "source": [
    "#redundant code ===> duplicate code 12 lines\n",
    "\n",
    "a = 10\n",
    "b = 20\n",
    "c = a+b\n",
    "print(c)\n",
    "\n",
    "d = 12\n",
    "e = 21\n",
    "f = d + e\n",
    "print(f)\n",
    "\n",
    "g = 50\n",
    "h = 11\n",
    "i = g + h\n",
    "print(i)"
   ]
  },
  {
   "cell_type": "code",
   "execution_count": 10,
   "metadata": {},
   "outputs": [
    {
     "name": "stdout",
     "output_type": "stream",
     "text": [
      "30\n",
      "33\n",
      "61\n"
     ]
    }
   ],
   "source": [
    "def sum_function(x,y):\n",
    "    return x + y\n",
    "\n",
    "a = 10\n",
    "b = 20\n",
    "d = 12\n",
    "e = 21\n",
    "g = 50\n",
    "h = 11\n",
    "\n",
    "print(sum_function(a,b))\n",
    "print(sum_function(d,e))\n",
    "print(sum_function(g,h))"
   ]
  },
  {
   "cell_type": "code",
   "execution_count": 11,
   "metadata": {},
   "outputs": [
    {
     "name": "stdout",
     "output_type": "stream",
     "text": [
      "30\n",
      "33\n",
      "61\n"
     ]
    }
   ],
   "source": [
    "def sum_function(x,y):  #User def function\n",
    "    return x + y\n",
    "\n",
    "print(sum_function(10,20))  #inbuilt function\n",
    "print(sum_function(12,21))\n",
    "print(sum_function(50,11))"
   ]
  },
  {
   "cell_type": "code",
   "execution_count": 3,
   "metadata": {},
   "outputs": [
    {
     "name": "stdout",
     "output_type": "stream",
     "text": [
      "4\n",
      "5\n",
      "9\n"
     ]
    }
   ],
   "source": [
    "a = \"Fifty\"\n",
    "value = [\"name\", \"address\", \"train name\", \"train number\"]\n",
    "c = \"Lino Jhon\"\n",
    "\n",
    "\n",
    "print(len(value))\n",
    "print(len(a))\n",
    "print(len(c))\n",
    "\n",
    "#Identify length of the string or data strucuture\n"
   ]
  },
  {
   "cell_type": "code",
   "execution_count": null,
   "metadata": {},
   "outputs": [],
   "source": []
  },
  {
   "cell_type": "code",
   "execution_count": 17,
   "metadata": {},
   "outputs": [
    {
     "name": "stdout",
     "output_type": "stream",
     "text": [
      "4\n",
      "15\n",
      "<class 'str'>\n",
      "<class 'int'>\n",
      "<class 'list'>\n"
     ]
    }
   ],
   "source": [
    "\n",
    "#len function\n",
    "\n",
    "a = \" python $$$ ^^#\" #\" \" \"p\" \"y\" \"t\" \"h\" \"o\" \"n\" \" \"\n",
    "\n",
    "\n",
    "\n",
    "value = [\"name\", \"address\", \"train name\", \"train number\"]\n",
    "\n",
    "print(len(value))\n",
    "print(len(a))\n",
    "\n",
    "b = 4\n",
    "\n",
    "#print(len(b))\n",
    "\n",
    "print(type(a))\n",
    "print(type(b))\n",
    "print(type(value))\n",
    "\n",
    "#type function\n",
    "\n",
    "#==> data type or data structure\n",
    "\n",
    "\n"
   ]
  },
  {
   "cell_type": "code",
   "execution_count": 4,
   "metadata": {},
   "outputs": [
    {
     "name": "stdout",
     "output_type": "stream",
     "text": [
      "a\n",
      "b\tc\n",
      "hello\n"
     ]
    }
   ],
   "source": [
    "val1 = \"a\"\n",
    "val2 = \"b\"\n",
    "val3 = \"c\"\n",
    "print(val1) #print(val1, end=\"\\n\")\n",
    "print(val2, end=\"\\t\")\n",
    "print(val3)\n",
    "print(\"hello\")"
   ]
  },
  {
   "cell_type": "code",
   "execution_count": 27,
   "metadata": {},
   "outputs": [
    {
     "name": "stdout",
     "output_type": "stream",
     "text": [
      "10\t20\n",
      "40*python                           go\n"
     ]
    }
   ],
   "source": [
    "a = 10\n",
    "b = 20\n",
    "c = 40\n",
    "print(a, end=\"\\t\")\n",
    "print(b)  #print(b, end=\"\\n\")\n",
    "print(c, end=\"*\")\n",
    "print(\"python\",end=\"                           \")\n",
    "print(\"go\")"
   ]
  },
  {
   "cell_type": "code",
   "execution_count": 28,
   "metadata": {},
   "outputs": [
    {
     "name": "stdout",
     "output_type": "stream",
     "text": [
      "30**********20\n",
      "python\\shello\tman\n",
      "wow\n"
     ]
    }
   ],
   "source": [
    "a = 30\n",
    "b = 20\n",
    "c = \"python\"\n",
    "d = \"hello\"\n",
    "\n",
    "print(a, end=\"**********\")\n",
    "print(b)\n",
    "print(c, end = \"\\s\")\n",
    "print(d, end = \"\\t\")\n",
    "print(\"man\")\n",
    "print(\"wow\")\n"
   ]
  },
  {
   "cell_type": "code",
   "execution_count": 30,
   "metadata": {},
   "outputs": [
    {
     "name": "stdout",
     "output_type": "stream",
     "text": [
      "1 2 3 4\n"
     ]
    }
   ],
   "source": [
    "print(1,2,3,4)"
   ]
  },
  {
   "cell_type": "code",
   "execution_count": 35,
   "metadata": {},
   "outputs": [
    {
     "name": "stdout",
     "output_type": "stream",
     "text": [
      "a\n",
      "b\n",
      "c\n"
     ]
    }
   ],
   "source": [
    "val1 = \"a\"\n",
    "val2 = \"b\"\n",
    "val3 = \"c\"\n",
    "\n",
    "\n",
    "print(val1, val2, val3, sep=\"\\n\")\n",
    "\n",
    "\n",
    "\n",
    "\n",
    "#print(val1, val2, val3, sep=\"###\", end=\"\\t\")\n",
    "#print(val1, val2, val3, sep=\"@@@2\", end=\"\\t\")"
   ]
  },
  {
   "cell_type": "code",
   "execution_count": null,
   "metadata": {},
   "outputs": [],
   "source": []
  },
  {
   "cell_type": "code",
   "execution_count": null,
   "metadata": {},
   "outputs": [],
   "source": []
  },
  {
   "cell_type": "code",
   "execution_count": 3,
   "metadata": {},
   "outputs": [
    {
     "name": "stdout",
     "output_type": "stream",
     "text": [
      "hello\tHi\n",
      "python\n"
     ]
    }
   ],
   "source": [
    "print(\"hello\", end=\"\\t\")\n",
    "print(\"Hi\")\n",
    "print(\"python\")"
   ]
  },
  {
   "cell_type": "code",
   "execution_count": 6,
   "metadata": {},
   "outputs": [
    {
     "name": "stdout",
     "output_type": "stream",
     "text": [
      "Dhana\n",
      "balan\tpython\n"
     ]
    }
   ],
   "source": [
    "print(\"Dhana\") #print(\"Dhana\", end=\"\\n\")\n",
    "print(\"balan\", end=\"\\t\")\n",
    "print(\"python\")"
   ]
  },
  {
   "cell_type": "code",
   "execution_count": 5,
   "metadata": {},
   "outputs": [
    {
     "name": "stdout",
     "output_type": "stream",
     "text": [
      "10 20 30\n"
     ]
    }
   ],
   "source": [
    "print(10,20,30)"
   ]
  },
  {
   "cell_type": "code",
   "execution_count": 7,
   "metadata": {},
   "outputs": [
    {
     "name": "stdout",
     "output_type": "stream",
     "text": [
      "10\t20\t30\n",
      "10***20***30\n"
     ]
    }
   ],
   "source": [
    "print(10,20,30,sep=\"\\t\")\n",
    "print(10,20,30,sep=\"***\")"
   ]
  },
  {
   "cell_type": "code",
   "execution_count": null,
   "metadata": {},
   "outputs": [],
   "source": []
  },
  {
   "cell_type": "code",
   "execution_count": null,
   "metadata": {},
   "outputs": [],
   "source": []
  },
  {
   "cell_type": "code",
   "execution_count": 16,
   "metadata": {},
   "outputs": [
    {
     "name": "stdout",
     "output_type": "stream",
     "text": [
      "hello\n",
      "world\n",
      "welcome to \tpython\n"
     ]
    }
   ],
   "source": [
    "print(\"hello\") #print(\"hello\", end=\"\\n\")\n",
    "print(\"world\")\n",
    "print(\"welcome to \", end=\"\\t\")\n",
    "print(\"python\")"
   ]
  },
  {
   "cell_type": "code",
   "execution_count": 19,
   "metadata": {},
   "outputs": [
    {
     "name": "stdout",
     "output_type": "stream",
     "text": [
      "10\t20\t30\n"
     ]
    }
   ],
   "source": [
    "#sep\n",
    "\n",
    "print(10,20,30,sep=\"\\t\")\n",
    "\n",
    "print(10,20,30) #print(10,20,30,sep=\" \")"
   ]
  },
  {
   "cell_type": "code",
   "execution_count": null,
   "metadata": {},
   "outputs": [],
   "source": []
  },
  {
   "cell_type": "code",
   "execution_count": null,
   "metadata": {},
   "outputs": [],
   "source": []
  },
  {
   "cell_type": "code",
   "execution_count": 23,
   "metadata": {},
   "outputs": [
    {
     "name": "stdout",
     "output_type": "stream",
     "text": [
      "10 20^^hello\t100\n",
      "(20+5j)*"
     ]
    }
   ],
   "source": [
    "#print function ==> end spe\n",
    "\n",
    "print(10, end=\" \")\n",
    "print(20, end = \"^^\")\n",
    "print(\"hello\",end=\"\\t\")\n",
    "print(100)\n",
    "print(20 + 5j,end = \"*\")"
   ]
  },
  {
   "cell_type": "code",
   "execution_count": 27,
   "metadata": {},
   "outputs": [
    {
     "name": "stdout",
     "output_type": "stream",
     "text": [
      "10&&20&&30\n"
     ]
    }
   ],
   "source": [
    "print(10,20,30, sep=\"&&\")"
   ]
  },
  {
   "cell_type": "code",
   "execution_count": 2,
   "metadata": {},
   "outputs": [
    {
     "name": "stdout",
     "output_type": "stream",
     "text": [
      "10\n",
      "20\n",
      "30^^40^^50**60$$708090\n"
     ]
    }
   ],
   "source": [
    "print(10)\n",
    "print(20)\n",
    "print(30,40,50,end=\"**\",sep=\"^^\")\n",
    "print(60,70,end=\"80\",sep=\"$$\")\n",
    "print(90)"
   ]
  },
  {
   "cell_type": "code",
   "execution_count": 21,
   "metadata": {},
   "outputs": [
    {
     "name": "stdout",
     "output_type": "stream",
     "text": [
      "10\n",
      "<class 'int'>\n",
      "10.0\n",
      "<class 'float'>\n"
     ]
    }
   ],
   "source": [
    "#int to float conversion\n",
    "a = 10\n",
    "\n",
    "print(a)\n",
    "print(type(a))\n",
    "\n",
    "b = float(a)\n",
    "print(b)\n",
    "print(type(b))\n"
   ]
  },
  {
   "cell_type": "code",
   "execution_count": 22,
   "metadata": {},
   "outputs": [
    {
     "name": "stdout",
     "output_type": "stream",
     "text": [
      "10\n",
      "<class 'int'>\n",
      "10\n",
      "<class 'str'>\n"
     ]
    }
   ],
   "source": [
    "#int to str conversion\n",
    "a = 10\n",
    "\n",
    "print(a)\n",
    "print(type(a))\n",
    "\n",
    "b = str(a)\n",
    "print(b)\n",
    "print(type(b))"
   ]
  },
  {
   "cell_type": "code",
   "execution_count": null,
   "metadata": {},
   "outputs": [],
   "source": [
    "#int\n",
    "#float\n",
    "#str\n",
    "#bool"
   ]
  },
  {
   "cell_type": "code",
   "execution_count": 39,
   "metadata": {},
   "outputs": [
    {
     "name": "stdout",
     "output_type": "stream",
     "text": [
      "10\n",
      "<class 'int'>\n",
      "10.0\n",
      "<class 'float'>\n"
     ]
    }
   ],
   "source": [
    "#int to float conversion\n",
    "a = 10\n",
    "\n",
    "b = float(a)\n",
    "\n",
    "print(a)\n",
    "print(type(a))\n",
    "print(b)\n",
    "print(type(b))"
   ]
  },
  {
   "cell_type": "code",
   "execution_count": null,
   "metadata": {},
   "outputs": [],
   "source": [
    "\n",
    "\n"
   ]
  },
  {
   "cell_type": "code",
   "execution_count": 10,
   "metadata": {},
   "outputs": [
    {
     "name": "stdout",
     "output_type": "stream",
     "text": [
      "10\n",
      "<class 'int'>\n",
      "10.0\n",
      "<class 'float'>\n",
      "10.99\n",
      "<class 'float'>\n",
      "10\n",
      "<class 'int'>\n",
      "10.99\n",
      "<class 'float'>\n",
      "10.99\n",
      "<class 'str'>\n"
     ]
    },
    {
     "ename": "ValueError",
     "evalue": "invalid literal for int() with base 10: 'python'",
     "output_type": "error",
     "traceback": [
      "\u001b[1;31m---------------------------------------------------------------------------\u001b[0m",
      "\u001b[1;31mValueError\u001b[0m                                Traceback (most recent call last)",
      "\u001b[1;32m<ipython-input-10-99d7fc45e738>\u001b[0m in \u001b[0;36m<module>\u001b[1;34m\u001b[0m\n\u001b[0;32m     40\u001b[0m \u001b[0ma\u001b[0m \u001b[1;33m=\u001b[0m \u001b[1;34m\"python\"\u001b[0m\u001b[1;33m\u001b[0m\u001b[1;33m\u001b[0m\u001b[0m\n\u001b[0;32m     41\u001b[0m \u001b[1;33m\u001b[0m\u001b[0m\n\u001b[1;32m---> 42\u001b[1;33m \u001b[0mb\u001b[0m \u001b[1;33m=\u001b[0m \u001b[0mint\u001b[0m\u001b[1;33m(\u001b[0m\u001b[0ma\u001b[0m\u001b[1;33m)\u001b[0m\u001b[1;33m\u001b[0m\u001b[1;33m\u001b[0m\u001b[0m\n\u001b[0m\u001b[0;32m     43\u001b[0m \u001b[1;33m\u001b[0m\u001b[0m\n\u001b[0;32m     44\u001b[0m \u001b[0mprint\u001b[0m\u001b[1;33m(\u001b[0m\u001b[0ma\u001b[0m\u001b[1;33m)\u001b[0m\u001b[1;33m\u001b[0m\u001b[1;33m\u001b[0m\u001b[0m\n",
      "\u001b[1;31mValueError\u001b[0m: invalid literal for int() with base 10: 'python'"
     ]
    }
   ],
   "source": [
    "#Data type conversions\n",
    "\n",
    "\n",
    "#int ===>\n",
    "\n",
    "\n",
    "#int to float conversion\n",
    "a = 10\n",
    "\n",
    "b = float(a)\n",
    "\n",
    "print(a)\n",
    "print(type(a))\n",
    "print(b)\n",
    "print(type(b))\n",
    "\n",
    "\n",
    "\n",
    "#float ===>\n",
    "\n",
    "a = 10.99\n",
    "\n",
    "b = int(a)\n",
    "\n",
    "print(a)\n",
    "print(type(a))\n",
    "print(b)\n",
    "print(type(b))\n",
    "\n",
    "#float to str\n",
    "\n",
    "a = 10.99\n",
    "\n",
    "b = str(a)\n",
    "\n",
    "print(a)\n",
    "print(type(a))\n",
    "print(b)\n",
    "print(type(b))\n",
    "\n",
    "#bool ===>\n",
    "\n",
    "#str ===>\n",
    "\n",
    "a = \"python\"\n",
    "\n",
    "b = int(a)\n",
    "\n",
    "print(a)\n",
    "print(type(a))\n",
    "print(b)\n",
    "print(type(b))\n",
    "\n",
    "#String ==> generic data type "
   ]
  },
  {
   "cell_type": "code",
   "execution_count": 1,
   "metadata": {},
   "outputs": [
    {
     "ename": "ValueError",
     "evalue": "invalid literal for int() with base 10: 'python'",
     "output_type": "error",
     "traceback": [
      "\u001b[1;31m---------------------------------------------------------------------------\u001b[0m",
      "\u001b[1;31mValueError\u001b[0m                                Traceback (most recent call last)",
      "\u001b[1;32m~\\AppData\\Local\\Temp\\ipykernel_10876\\4010005064.py\u001b[0m in \u001b[0;36m<module>\u001b[1;34m\u001b[0m\n\u001b[0;32m      1\u001b[0m \u001b[0ma\u001b[0m \u001b[1;33m=\u001b[0m \u001b[1;34m\"python\"\u001b[0m\u001b[1;33m\u001b[0m\u001b[1;33m\u001b[0m\u001b[0m\n\u001b[0;32m      2\u001b[0m \u001b[1;33m\u001b[0m\u001b[0m\n\u001b[1;32m----> 3\u001b[1;33m \u001b[0mb\u001b[0m \u001b[1;33m=\u001b[0m \u001b[0mint\u001b[0m\u001b[1;33m(\u001b[0m\u001b[0ma\u001b[0m\u001b[1;33m)\u001b[0m\u001b[1;33m\u001b[0m\u001b[1;33m\u001b[0m\u001b[0m\n\u001b[0m\u001b[0;32m      4\u001b[0m \u001b[1;33m\u001b[0m\u001b[0m\n\u001b[0;32m      5\u001b[0m \u001b[0mprint\u001b[0m\u001b[1;33m(\u001b[0m\u001b[0ma\u001b[0m\u001b[1;33m)\u001b[0m\u001b[1;33m\u001b[0m\u001b[1;33m\u001b[0m\u001b[0m\n",
      "\u001b[1;31mValueError\u001b[0m: invalid literal for int() with base 10: 'python'"
     ]
    }
   ],
   "source": [
    "a = \"python\"\n",
    "\n",
    "b = int(a)\n",
    "\n",
    "print(a)\n",
    "print(type(a))\n",
    "print(b)\n",
    "print(type(b))"
   ]
  },
  {
   "cell_type": "code",
   "execution_count": 2,
   "metadata": {},
   "outputs": [
    {
     "name": "stdout",
     "output_type": "stream",
     "text": [
      "20\n",
      "<class 'str'>\n",
      "20\n",
      "<class 'int'>\n"
     ]
    }
   ],
   "source": [
    "a = \"20\"\n",
    "\n",
    "b = int(a)\n",
    "\n",
    "print(a)\n",
    "print(type(a))\n",
    "print(b)\n",
    "print(type(b))"
   ]
  },
  {
   "cell_type": "code",
   "execution_count": 23,
   "metadata": {},
   "outputs": [
    {
     "name": "stdout",
     "output_type": "stream",
     "text": [
      "10\n",
      "20.2\n",
      "<class 'int'>\n",
      "<class 'float'>\n"
     ]
    }
   ],
   "source": [
    "a = 10 #hard coding\n",
    "b = 20.2 #hard coding\n",
    "\n",
    "print(a)\n",
    "print(b)\n",
    "\n",
    "print(type(a))\n",
    "print(type(b))"
   ]
  },
  {
   "cell_type": "code",
   "execution_count": 9,
   "metadata": {},
   "outputs": [
    {
     "name": "stdout",
     "output_type": "stream",
     "text": [
      "20\n",
      "hello\n",
      "700\n",
      "hi\n",
      "700\n",
      "<class 'int'>\n",
      "0\n",
      "True\n"
     ]
    }
   ],
   "source": [
    "a = 20\n",
    "\n",
    "print(a)\n",
    "\n",
    "print(\"hello\")\n",
    "\n",
    "b = int(input())\n",
    "\n",
    "print(\"hi\")\n",
    "\n",
    "print(b)\n",
    "\n",
    "print(type(b))\n",
    "\n",
    "\n",
    "c = bool(input())\n",
    "print(c)"
   ]
  },
  {
   "cell_type": "code",
   "execution_count": 14,
   "metadata": {},
   "outputs": [
    {
     "name": "stdout",
     "output_type": "stream",
     "text": [
      "30\n",
      "<class 'int'>\n",
      "please enter some integer value: 55\n",
      "55\n",
      "<class 'int'>\n"
     ]
    }
   ],
   "source": [
    "a = 30\n",
    "\n",
    "print(a)\n",
    "print(type(a))\n",
    "\n",
    "\n",
    "b = int(input(\"please enter some integer value: \"))\n",
    "print(b)\n",
    "print(type(b))"
   ]
  },
  {
   "cell_type": "code",
   "execution_count": null,
   "metadata": {},
   "outputs": [],
   "source": [
    "Binary ==> 0 and 1\n",
    "\n",
    "1  ===> 1\n",
    "2 ====> 10\n",
    "3 ===> 11\n",
    "\n",
    "\n",
    "8 ===> 1000\n",
    "\n",
    "\n",
    "Octal ===> 8  (0 to 7)\n",
    "\n",
    "9  ===> 11\n",
    "10 ==>  12\n",
    "\n",
    "Haexadecimanl ===> 0-9, a-e \n",
    "\n",
    "\n"
   ]
  },
  {
   "cell_type": "code",
   "execution_count": 41,
   "metadata": {},
   "outputs": [
    {
     "name": "stdout",
     "output_type": "stream",
     "text": [
      "please enter the amoutn: 9 + 6j\n",
      "9 + 6j\n",
      "<class 'str'>\n"
     ]
    }
   ],
   "source": [
    "a = input(\"please enter the amoutn: \")\n",
    "\n",
    "print(a)\n",
    "print(type(a))"
   ]
  },
  {
   "cell_type": "code",
   "execution_count": 5,
   "metadata": {},
   "outputs": [
    {
     "name": "stdout",
     "output_type": "stream",
     "text": [
      "please enter any value: hello\n"
     ]
    },
    {
     "ename": "ValueError",
     "evalue": "invalid literal for int() with base 10: 'hello'",
     "output_type": "error",
     "traceback": [
      "\u001b[1;31m---------------------------------------------------------------------------\u001b[0m",
      "\u001b[1;31mValueError\u001b[0m                                Traceback (most recent call last)",
      "\u001b[1;32m~\\AppData\\Local\\Temp\\ipykernel_10876\\773741329.py\u001b[0m in \u001b[0;36m<module>\u001b[1;34m\u001b[0m\n\u001b[1;32m----> 1\u001b[1;33m \u001b[0ma\u001b[0m \u001b[1;33m=\u001b[0m \u001b[0mint\u001b[0m\u001b[1;33m(\u001b[0m\u001b[0minput\u001b[0m\u001b[1;33m(\u001b[0m\u001b[1;34m\"please enter any value: \"\u001b[0m\u001b[1;33m)\u001b[0m\u001b[1;33m)\u001b[0m\u001b[1;33m\u001b[0m\u001b[1;33m\u001b[0m\u001b[0m\n\u001b[0m\u001b[0;32m      2\u001b[0m \u001b[1;33m\u001b[0m\u001b[0m\n\u001b[0;32m      3\u001b[0m \u001b[0mprint\u001b[0m\u001b[1;33m(\u001b[0m\u001b[0ma\u001b[0m\u001b[1;33m)\u001b[0m\u001b[1;33m\u001b[0m\u001b[1;33m\u001b[0m\u001b[0m\n\u001b[0;32m      4\u001b[0m \u001b[0mprint\u001b[0m\u001b[1;33m(\u001b[0m\u001b[0mtype\u001b[0m\u001b[1;33m(\u001b[0m\u001b[0ma\u001b[0m\u001b[1;33m)\u001b[0m\u001b[1;33m)\u001b[0m\u001b[1;33m\u001b[0m\u001b[1;33m\u001b[0m\u001b[0m\n",
      "\u001b[1;31mValueError\u001b[0m: invalid literal for int() with base 10: 'hello'"
     ]
    }
   ],
   "source": [
    "a = int(input(\"please enter any value: \"))\n",
    "\n",
    "print(a)\n",
    "print(type(a))"
   ]
  },
  {
   "cell_type": "code",
   "execution_count": 16,
   "metadata": {},
   "outputs": [
    {
     "data": {
      "text/plain": [
       "'9087'"
      ]
     },
     "execution_count": 16,
     "metadata": {},
     "output_type": "execute_result"
    }
   ],
   "source": [
    "\"90\"+\"87\""
   ]
  },
  {
   "cell_type": "code",
   "execution_count": 17,
   "metadata": {},
   "outputs": [
    {
     "data": {
      "text/plain": [
       "177"
      ]
     },
     "execution_count": 17,
     "metadata": {},
     "output_type": "execute_result"
    }
   ],
   "source": [
    "90+87"
   ]
  },
  {
   "cell_type": "code",
   "execution_count": 15,
   "metadata": {},
   "outputs": [
    {
     "name": "stdout",
     "output_type": "stream",
     "text": [
      "please enter first value: 26\n",
      "Please enter second value: 28\n",
      "2628\n",
      "<class 'str'>\n"
     ]
    }
   ],
   "source": [
    "#input function ===> collect input from the user\n",
    "\n",
    "val1 = input(\"please enter first value: \") #string #generic data type\n",
    "val2 = input(\"Please enter second value: \")\n",
    "\n",
    "print(val1 + val2)\n",
    "print(type(val1))\n",
    "\n",
    "#input function always collects string only from the user"
   ]
  },
  {
   "cell_type": "code",
   "execution_count": 16,
   "metadata": {},
   "outputs": [
    {
     "name": "stdout",
     "output_type": "stream",
     "text": [
      "20\n",
      "25\n",
      "45\n",
      "<class 'int'>\n"
     ]
    }
   ],
   "source": [
    "val1 = int(input()) #string #generic data type\n",
    "val2 = int(input())\n",
    "\n",
    "print(val1 + val2)\n",
    "print(type(val1))"
   ]
  },
  {
   "cell_type": "code",
   "execution_count": 30,
   "metadata": {},
   "outputs": [
    {
     "name": "stdout",
     "output_type": "stream",
     "text": [
      "please enter a number1: 25\n",
      "please enter a number2: 45\n",
      "70\n"
     ]
    }
   ],
   "source": [
    "val1 = int(input(\"please enter a number1: \"))\n",
    "val2 = int(input(\"please enter a number2: \"))\n",
    "\n",
    "print(val1 + val2)\n"
   ]
  },
  {
   "cell_type": "code",
   "execution_count": null,
   "metadata": {},
   "outputs": [],
   "source": []
  },
  {
   "cell_type": "code",
   "execution_count": null,
   "metadata": {},
   "outputs": [],
   "source": []
  },
  {
   "cell_type": "code",
   "execution_count": 12,
   "metadata": {},
   "outputs": [
    {
     "name": "stdout",
     "output_type": "stream",
     "text": [
      "10\n",
      "<class 'int'>\n",
      "20.99\n",
      "<class 'float'>\n",
      "please enter a string: python\n",
      "python\n",
      "<class 'str'>\n",
      "please enter a integer: computer\n"
     ]
    },
    {
     "ename": "ValueError",
     "evalue": "invalid literal for int() with base 10: 'computer'",
     "output_type": "error",
     "traceback": [
      "\u001b[1;31m---------------------------------------------------------------------------\u001b[0m",
      "\u001b[1;31mValueError\u001b[0m                                Traceback (most recent call last)",
      "\u001b[1;32m<ipython-input-12-a4d71f2c42c0>\u001b[0m in \u001b[0;36m<module>\u001b[1;34m\u001b[0m\n\u001b[0;32m     13\u001b[0m \u001b[1;33m\u001b[0m\u001b[0m\n\u001b[0;32m     14\u001b[0m \u001b[1;33m\u001b[0m\u001b[0m\n\u001b[1;32m---> 15\u001b[1;33m \u001b[0md\u001b[0m \u001b[1;33m=\u001b[0m \u001b[0mint\u001b[0m\u001b[1;33m(\u001b[0m\u001b[0minput\u001b[0m\u001b[1;33m(\u001b[0m\u001b[1;34m\"please enter a integer: \"\u001b[0m\u001b[1;33m)\u001b[0m\u001b[1;33m)\u001b[0m \u001b[1;31m#integer\u001b[0m\u001b[1;33m\u001b[0m\u001b[1;33m\u001b[0m\u001b[0m\n\u001b[0m\u001b[0;32m     16\u001b[0m \u001b[0mprint\u001b[0m\u001b[1;33m(\u001b[0m\u001b[0md\u001b[0m\u001b[1;33m)\u001b[0m\u001b[1;33m\u001b[0m\u001b[1;33m\u001b[0m\u001b[0m\n\u001b[0;32m     17\u001b[0m \u001b[0mprint\u001b[0m\u001b[1;33m(\u001b[0m\u001b[0mtype\u001b[0m\u001b[1;33m(\u001b[0m\u001b[0md\u001b[0m\u001b[1;33m)\u001b[0m\u001b[1;33m)\u001b[0m\u001b[1;33m\u001b[0m\u001b[1;33m\u001b[0m\u001b[0m\n",
      "\u001b[1;31mValueError\u001b[0m: invalid literal for int() with base 10: 'computer'"
     ]
    }
   ],
   "source": [
    "#input function\n",
    "a = 10\n",
    "print(a)\n",
    "print(type(a))\n",
    "\n",
    "b = 20.99\n",
    "print(b)\n",
    "print(type(b))\n",
    "\n",
    "c = input(\"please enter a string: \") #string default\n",
    "print(c)\n",
    "print(type(c))\n",
    "\n",
    "\n",
    "d = int(input(\"please enter a integer: \")) #integer \n",
    "print(d)\n",
    "print(type(d))\n",
    "\n",
    "\n",
    "e = float(input(\"please enter a integer: \")) #float\n",
    "print(e)\n",
    "print(type(e))\n",
    "\n",
    "f = bool(input(\"please enter a integer: \")) #boolean\n",
    "print(f)\n",
    "print(type(f))\n"
   ]
  },
  {
   "cell_type": "code",
   "execution_count": 37,
   "metadata": {},
   "outputs": [
    {
     "name": "stdout",
     "output_type": "stream",
     "text": [
      "Please enter the number1: 7\n",
      "Please enter the number2: 9\n",
      "16\n",
      "The sum of two numbers are 16\n",
      "The sum of 7 and 9 are 16\n",
      "The sum of 7 and 9 are 16\n"
     ]
    }
   ],
   "source": [
    "a = int(input(\"Please enter the number1: \"))\n",
    "b = int(input(\"Please enter the number2: \"))\n",
    "\n",
    "c = a + b\n",
    "\n",
    "print(c)\n",
    "print(\"The sum of two numbers are\",c)\n",
    "print(\"The sum of {} and {} are {}\".format(a,b,c))\n",
    "print(f\"The sum of {a} and {b} are {c}\")"
   ]
  },
  {
   "cell_type": "code",
   "execution_count": 41,
   "metadata": {},
   "outputs": [
    {
     "name": "stdout",
     "output_type": "stream",
     "text": [
      "Please enter a number: 30\n",
      "10\n",
      "<class 'int'>\n",
      "30\n",
      "<class 'str'>\n"
     ]
    }
   ],
   "source": [
    "\n",
    "a = 10\n",
    "b = input(\"Please enter a number: \")\n",
    "\n",
    "print(a)\n",
    "print(type(a))\n",
    "print(b)\n",
    "print(type(b))\n",
    "\n"
   ]
  },
  {
   "cell_type": "code",
   "execution_count": null,
   "metadata": {},
   "outputs": [],
   "source": []
  },
  {
   "cell_type": "code",
   "execution_count": null,
   "metadata": {},
   "outputs": [],
   "source": [
    "#data type conversions\n",
    "\n",
    "\n",
    "#formatting output\n",
    "#basic pgms"
   ]
  },
  {
   "cell_type": "code",
   "execution_count": 35,
   "metadata": {},
   "outputs": [
    {
     "name": "stdout",
     "output_type": "stream",
     "text": [
      "please enter breadth of th rectangle: 21\n",
      "The Area of rectange is 210.0\n",
      "The Area of rectange with lenght 10 and breadth 21.0 is 210.0\n",
      "The Perimeter of rectange with lenght 10 and breadth 21.0 is 62.0\n"
     ]
    }
   ],
   "source": [
    "#Program1\n",
    "\n",
    "#area of rectangle l * b\n",
    "#perimeter of rectange 2l + 2b\n",
    "\n",
    "#length = 10\n",
    "#breadth = collect it from user as floating number\n",
    "\n",
    "#calculate area and perimeter\n",
    "\n",
    "#print the output (integer)\n",
    "\n",
    "leng = 10\n",
    "bre = float(input(\"please enter breadth of th rectangle: \"))\n",
    "Area = leng * bre\n",
    "print(\"The Area of rectange is\", Area)\n",
    "\n",
    "print(\"The Area of rectange with lenght {} and breadth {} is {}\".format(leng, bre, Area)) #format is a method in string to replace {} with variables\n",
    "\n",
    "perimeter = 2 * leng + 2 * bre\n",
    "print(\"The Perimeter of rectange with lenght {} and breadth {} is {}\".format(leng, bre, perimeter))\n"
   ]
  },
  {
   "cell_type": "code",
   "execution_count": 18,
   "metadata": {},
   "outputs": [],
   "source": [
    "#collect radius from user as float\n",
    "#store pi as 3.14\n",
    "#Area = \n",
    "#The area of circle with radius and constat pi is "
   ]
  },
  {
   "cell_type": "code",
   "execution_count": 20,
   "metadata": {},
   "outputs": [],
   "source": [
    "#collect number1, number2 from user as floating numbers \n",
    "#output = (number1 * number2) + (number1 - number2)\n",
    "#Convert output in to integer\n",
    "#print output like this \n",
    "\n",
    "#The output of number1 and nymber2 is output\n",
    "\n"
   ]
  },
  {
   "cell_type": "code",
   "execution_count": 21,
   "metadata": {},
   "outputs": [
    {
     "name": "stdout",
     "output_type": "stream",
     "text": [
      "please enter breadth (float value): 2.5\n",
      "25.0\n",
      "25.0\n",
      "the Area of rectangle is  25\n",
      "the perimeter of rectangle is  25\n",
      "the Area of rectangle is 25\n",
      "the perimeter of rectangle is 25\n",
      "the Area of rectangle with length 10 and breadth 2.5 is 25 \n",
      "the Area of rectangle with length 10 and breadth 2.5 is 25\n",
      "the perimeter of rectangle with length 10 and breadth 2.5 is 25 \n"
     ]
    }
   ],
   "source": [
    "#area of rectangle l * b\n",
    "#perimeter of rectange 2l + 2b\n",
    "\n",
    "#length = 10\n",
    "#bre = collect it from user as floating number\n",
    "\n",
    "#calculate area and perimeter\n",
    "#print the output (integer)\n",
    "\n",
    "length = 10\n",
    "\n",
    "breadth = float(input(\"please enter breadth (float value): \"))\n",
    "\n",
    "Area = length * breadth\n",
    "perimeter = 2 * (length + breadth)\n",
    "\n",
    "print(Area)\n",
    "print(perimeter)\n",
    "\n",
    "#formatted output\n",
    "print(\"the Area of rectangle is \",int(Area))\n",
    "print(\"the perimeter of rectangle is \",int(perimeter))\n",
    "\n",
    "print(f\"the Area of rectangle is {int(Area)}\")\n",
    "print(f\"the perimeter of rectangle is {int(perimeter)}\")\n",
    "\n",
    "#format\n",
    "print(\"the Area of rectangle with length {} and breadth {} is {} \".format(length, breadth,int(Area)))\n",
    "print(f\"the Area of rectangle with length {length} and breadth {breadth} is {int(Area)}\")\n",
    "\n",
    "\n",
    "print(\"the perimeter of rectangle with length {} and breadth {} is {} \".format(length, breadth,int(Area)))"
   ]
  },
  {
   "cell_type": "code",
   "execution_count": 22,
   "metadata": {},
   "outputs": [
    {
     "name": "stdout",
     "output_type": "stream",
     "text": [
      "please enter breadth (float value): 5.8\n",
      "the Area of rectangle with breadth 5.8 and length 10 is 58 \n"
     ]
    }
   ],
   "source": [
    "length = 10\n",
    "\n",
    "breadth = float(input(\"please enter breadth (float value): \"))\n",
    "\n",
    "Area = length * breadth\n",
    "perimeter = 2 * (length + breadth)\n",
    "\n",
    "print(\"the Area of rectangle with breadth {1} and length {0} is {2} \".format(length, breadth,int(Area)))"
   ]
  },
  {
   "cell_type": "code",
   "execution_count": null,
   "metadata": {},
   "outputs": [],
   "source": [
    "#collect length , breadth , height from user (all of them in float datatype)\n",
    "#calculate area of geometry : (length * breadth) + (length * height) ==> int format\n",
    "\n",
    "#Expected output:\n",
    "\n",
    "The Area of Geometry with length {} , breadth {} and height {} is {}\n"
   ]
  },
  {
   "cell_type": "code",
   "execution_count": null,
   "metadata": {},
   "outputs": [],
   "source": []
  },
  {
   "cell_type": "code",
   "execution_count": 14,
   "metadata": {},
   "outputs": [
    {
     "name": "stdout",
     "output_type": "stream",
     "text": [
      "True\n",
      "20\n"
     ]
    }
   ],
   "source": [
    "a = True\n",
    "b = true\n",
    "\n",
    "print(a)\n",
    "print(b)\n",
    "\n",
    "\n",
    "inbuilt function   keywords     variables   \"\""
   ]
  },
  {
   "cell_type": "code",
   "execution_count": 38,
   "metadata": {},
   "outputs": [
    {
     "name": "stdout",
     "output_type": "stream",
     "text": [
      "(4+5j)\n",
      "4.0\n",
      "5.0\n"
     ]
    }
   ],
   "source": [
    "a = 4 + 5j\n",
    "print(a)\n",
    "print(a.real)\n",
    "print(a.imag)\n"
   ]
  },
  {
   "cell_type": "code",
   "execution_count": null,
   "metadata": {},
   "outputs": [],
   "source": [
    "#Doubts\n",
    "\n",
    "#Kamal\n",
    "\n",
    "#escape sequence ===> clear\n",
    "#concate int + str ===> \n",
    "#id \n",
    "#Name error True true \n",
    "\n",
    "#Akilesh\n",
    "\n",
    "#end sep ==> print\n",
    "#complex number \n",
    "#input ==> str ===> \n",
    "\n",
    "\n",
    "#Yuvan \n",
    "\n",
    "#Print format\n",
    "#input function\n",
    "#tuple list ===> [] () {}\n",
    "\n",
    "\n",
    "#collect length , breadth , height from user (all of them in float datatype)\n",
    "#calculate area of geometry : (length * breadth) + (length * height) ==> int format\n",
    "#Expected output:\n",
    "#The Area of Geometry with length {} , breadth {} and height {} is {}\n",
    "#"
   ]
  },
  {
   "cell_type": "code",
   "execution_count": 33,
   "metadata": {},
   "outputs": [
    {
     "name": "stdout",
     "output_type": "stream",
     "text": [
      "Please enter a number: hello\n"
     ]
    },
    {
     "ename": "ValueError",
     "evalue": "invalid literal for int() with base 10: 'hello'",
     "output_type": "error",
     "traceback": [
      "\u001b[1;31m---------------------------------------------------------------------------\u001b[0m",
      "\u001b[1;31mValueError\u001b[0m                                Traceback (most recent call last)",
      "\u001b[1;32m~\\AppData\\Local\\Temp\\ipykernel_19624\\163247937.py\u001b[0m in \u001b[0;36m<module>\u001b[1;34m\u001b[0m\n\u001b[1;32m----> 1\u001b[1;33m \u001b[0ma\u001b[0m \u001b[1;33m=\u001b[0m \u001b[0mint\u001b[0m\u001b[1;33m(\u001b[0m\u001b[0minput\u001b[0m\u001b[1;33m(\u001b[0m\u001b[1;34m\"Please enter a number: \"\u001b[0m\u001b[1;33m)\u001b[0m\u001b[1;33m)\u001b[0m\u001b[1;33m\u001b[0m\u001b[1;33m\u001b[0m\u001b[0m\n\u001b[0m\u001b[0;32m      2\u001b[0m \u001b[1;33m\u001b[0m\u001b[0m\n\u001b[0;32m      3\u001b[0m \u001b[0mprint\u001b[0m\u001b[1;33m(\u001b[0m\u001b[0ma\u001b[0m\u001b[1;33m)\u001b[0m\u001b[1;33m\u001b[0m\u001b[1;33m\u001b[0m\u001b[0m\n\u001b[0;32m      4\u001b[0m \u001b[0mprint\u001b[0m\u001b[1;33m(\u001b[0m\u001b[0mtype\u001b[0m\u001b[1;33m(\u001b[0m\u001b[0ma\u001b[0m\u001b[1;33m)\u001b[0m\u001b[1;33m)\u001b[0m\u001b[1;33m\u001b[0m\u001b[1;33m\u001b[0m\u001b[0m\n",
      "\u001b[1;31mValueError\u001b[0m: invalid literal for int() with base 10: 'hello'"
     ]
    }
   ],
   "source": [
    "a = input(\"Please enter a number: \")\n",
    "\n",
    "print(a)\n",
    "print(type(a))"
   ]
  },
  {
   "cell_type": "code",
   "execution_count": null,
   "metadata": {},
   "outputs": [],
   "source": []
  },
  {
   "cell_type": "code",
   "execution_count": null,
   "metadata": {},
   "outputs": [],
   "source": []
  }
 ],
 "metadata": {
  "kernelspec": {
   "display_name": "Python 3 (ipykernel)",
   "language": "python",
   "name": "python3"
  },
  "language_info": {
   "codemirror_mode": {
    "name": "ipython",
    "version": 3
   },
   "file_extension": ".py",
   "mimetype": "text/x-python",
   "name": "python",
   "nbconvert_exporter": "python",
   "pygments_lexer": "ipython3",
   "version": "3.9.13"
  }
 },
 "nbformat": 4,
 "nbformat_minor": 4
}
